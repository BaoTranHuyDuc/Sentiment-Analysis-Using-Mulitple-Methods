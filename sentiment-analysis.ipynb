{
  "cells": [
    {
      "cell_type": "code",
      "execution_count": null,
      "metadata": {
        "colab": {
          "base_uri": "https://localhost:8080/"
        },
        "id": "VNgpdsl4S7k3",
        "outputId": "be773930-24b0-4f9b-c62c-e2033c918368"
      },
      "outputs": [
        {
          "output_type": "stream",
          "name": "stdout",
          "text": [
            "Looking in indexes: https://pypi.org/simple, https://us-python.pkg.dev/colab-wheels/public/simple/\n",
            "Requirement already satisfied: tensorflow_datasets in /usr/local/lib/python3.10/dist-packages (4.8.3)\n",
            "Requirement already satisfied: toml in /usr/local/lib/python3.10/dist-packages (from tensorflow_datasets) (0.10.2)\n",
            "Requirement already satisfied: tqdm in /usr/local/lib/python3.10/dist-packages (from tensorflow_datasets) (4.65.0)\n",
            "Requirement already satisfied: click in /usr/local/lib/python3.10/dist-packages (from tensorflow_datasets) (8.1.3)\n",
            "Requirement already satisfied: wrapt in /usr/local/lib/python3.10/dist-packages (from tensorflow_datasets) (1.14.1)\n",
            "Requirement already satisfied: psutil in /usr/local/lib/python3.10/dist-packages (from tensorflow_datasets) (5.9.5)\n",
            "Requirement already satisfied: protobuf>=3.12.2 in /usr/local/lib/python3.10/dist-packages (from tensorflow_datasets) (3.20.3)\n",
            "Requirement already satisfied: requests>=2.19.0 in /usr/local/lib/python3.10/dist-packages (from tensorflow_datasets) (2.27.1)\n",
            "Requirement already satisfied: termcolor in /usr/local/lib/python3.10/dist-packages (from tensorflow_datasets) (2.3.0)\n",
            "Requirement already satisfied: dm-tree in /usr/local/lib/python3.10/dist-packages (from tensorflow_datasets) (0.1.8)\n",
            "Requirement already satisfied: absl-py in /usr/local/lib/python3.10/dist-packages (from tensorflow_datasets) (1.4.0)\n",
            "Requirement already satisfied: promise in /usr/local/lib/python3.10/dist-packages (from tensorflow_datasets) (2.3)\n",
            "Requirement already satisfied: tensorflow-metadata in /usr/local/lib/python3.10/dist-packages (from tensorflow_datasets) (1.13.1)\n",
            "Requirement already satisfied: numpy in /usr/local/lib/python3.10/dist-packages (from tensorflow_datasets) (1.22.4)\n",
            "Requirement already satisfied: etils[enp,epath]>=0.9.0 in /usr/local/lib/python3.10/dist-packages (from tensorflow_datasets) (1.2.0)\n",
            "Requirement already satisfied: zipp in /usr/local/lib/python3.10/dist-packages (from etils[enp,epath]>=0.9.0->tensorflow_datasets) (3.15.0)\n",
            "Requirement already satisfied: importlib_resources in /usr/local/lib/python3.10/dist-packages (from etils[enp,epath]>=0.9.0->tensorflow_datasets) (5.12.0)\n",
            "Requirement already satisfied: typing_extensions in /usr/local/lib/python3.10/dist-packages (from etils[enp,epath]>=0.9.0->tensorflow_datasets) (4.5.0)\n",
            "Requirement already satisfied: urllib3<1.27,>=1.21.1 in /usr/local/lib/python3.10/dist-packages (from requests>=2.19.0->tensorflow_datasets) (1.26.15)\n",
            "Requirement already satisfied: charset-normalizer~=2.0.0 in /usr/local/lib/python3.10/dist-packages (from requests>=2.19.0->tensorflow_datasets) (2.0.12)\n",
            "Requirement already satisfied: certifi>=2017.4.17 in /usr/local/lib/python3.10/dist-packages (from requests>=2.19.0->tensorflow_datasets) (2022.12.7)\n",
            "Requirement already satisfied: idna<4,>=2.5 in /usr/local/lib/python3.10/dist-packages (from requests>=2.19.0->tensorflow_datasets) (3.4)\n",
            "Requirement already satisfied: six in /usr/local/lib/python3.10/dist-packages (from promise->tensorflow_datasets) (1.16.0)\n",
            "Requirement already satisfied: googleapis-common-protos<2,>=1.52.0 in /usr/local/lib/python3.10/dist-packages (from tensorflow-metadata->tensorflow_datasets) (1.59.0)\n"
          ]
        }
      ],
      "source": [
        "# Note: to enable GPU training in Colab, go to Runtime > Change runtime type > Hardware acceleration > Choose GPU from the drop-down list.\n",
        "\n",
        "# Download tensorflow datasets\n",
        "!pip install tensorflow_datasets\n",
        "\n",
        "# Import libraries\n",
        "import numpy as np\n",
        "import tensorflow_datasets as tfds\n",
        "import tensorflow as tf\n",
        "import matplotlib.pyplot as plt"
      ]
    },
    {
      "cell_type": "code",
      "execution_count": null,
      "metadata": {
        "colab": {
          "base_uri": "https://localhost:8080/",
          "height": 171,
          "referenced_widgets": [
            "c2ab8b33ccea444e9c5d021b11c70ba6",
            "aca16682c08e4bedaaa362fb20136e8c",
            "c3fac5b243d34d6997959ac7ad0948d0",
            "a83856b1f3f84fd9a6ede00c6e3cab83",
            "83466805f91a4705afafd446292a23a5",
            "f8001312f98b447b8aacd0adb43199eb",
            "7a3300a268d243f5ae217f5b3d256292",
            "f61947ffa35846f0ab2720c681658666",
            "3391f347e48a4c9fb0dec345a1f86909",
            "59c470795d2c4eab8b362509e5b85105",
            "8868a2e3261747d49272f927247a24a6",
            "d2c86fc7f6344c43a1e15e9b6b5ed1fb",
            "b6556da6fc964a5fa70390794f345c4f",
            "b9b0528ae13a4e038eff8ca834315c0f",
            "45dc59ef60d041ac9b27999bbeafe1f8",
            "2b49e52d0b7c40259ef150d969c2accb",
            "4ac18909cb1a47758085814b3e1483b0",
            "2c64731756ff4cb083ed623579cc17c3",
            "80f24127f7634f83811e3bf18a701298",
            "85324ce1fdbd4ece9df74b148083ada1",
            "fa5720332b2d46dd8868c240cc59d0a4",
            "c4e7205dd5704b03b79cf695e63525da",
            "f711054374d34923899b81d9217423dc",
            "d54034b8455c46428fcd95c0ee6b5814",
            "fbf3aa4b76574a54ab485da48efc52c2",
            "648c2acad86d42a68bcd6484ff019a4a",
            "8bcf2da8d4004fb98811b9e3f387b733",
            "21fdf8be1a3f44f4ad4dcdd2f1e4b755",
            "c851965e36f44320935acacc738fd6eb",
            "0c7709abe57d471d8b33e283615c3283",
            "bae6a89dfda64357baae10b788933218",
            "794116180dd44a42975d81cc6295a1e5",
            "98ed38cc2c8847108a0df791581da74d",
            "9fb8275975464fb493a0d9d60fb461f4",
            "0738992a92ae4ae39357f085e812165b",
            "1d3e392f9d954250b3ba32a4c3bbd53e",
            "9339ac745a8d400aa1e05c1eaabc4b56",
            "2086900919dd40a899c4ffcd07f65c13",
            "39d0c338530c4ec38f57deb2b41d3f5f",
            "ca7f8a231e6d4bfb866162fc77b71d3f",
            "d33fdd02977d46b388e7f8833a1da69c",
            "26f56b4ecaa04b4f869afa924f0eadf3",
            "9a4cc8799223455ebb7521ad5543b041",
            "40509419f7eb49c1bc130d5d6c525864",
            "86ff5f70f324406e9d59c31843969eb8",
            "22aa4afcb6e346d8bf12190de2069742",
            "e5063b0ae4e444aa81ecc5b4fed7a77b",
            "45a356a1a84c45efb0f148ade11cdab6",
            "6dd930ac7bbf4fcab024cba46b17eb8a",
            "eee28840bdd34dd0901f1e283f68325a",
            "6f95d1b5e80246be87e552071f758b0d",
            "b1115f7dd2f642f297593a629792a9a6",
            "552c563643454af494d00642648889a1",
            "d392df67254d44fa8d8dcfa7f85026e5",
            "a7c7a1c12e2749eb801cc2724f499f5c",
            "9c9beda523a24872935aaf388bd9bf6c",
            "3e2ab6bf907a4878a6e733fd508c21c8",
            "a19a7070e900460185ba633065d636f2",
            "8f32e9d02f014c1e804f04e460073601",
            "3368ea1a535d4cbca06afceb464aa5cf",
            "043c5b6a93764d2481a79b9ef06fa2dc",
            "0f05ba94fe094ac5b112764b0d17984c",
            "3d108e8e50d6482580d7821f838852ea",
            "f500707ee3e94164b4ef86f366358fe4",
            "00ef868ef59540d9a37fe4a7a33d90e7",
            "ec5f6056aa1549fbb0b274b5ac629662",
            "04be1accc0054c2cb3313c3c8edd6a10",
            "548c85d30a334dfab50b1883f7831bb3",
            "2e1b9e94674240a19a886c5b58f2efc5",
            "2808387c48da42cf82209210e00eb381",
            "a1177c54ab074dd087c3546f91df9205",
            "13bd6bc4d5a64b50aa22d127a0f736f3",
            "a9a9610b736c46da8aacef46d4638dee",
            "7cdd43c5ced04766a509d2d1263dada7",
            "69ec3ae9c1d74268965f24ab37768b80",
            "5bc3072af01f480a8d53246e8fb5b8a1",
            "4e330ad4b5b44bb8a6100ce04b2d76ce",
            "52bab9e73cc3457f843272891fe16c48",
            "951c9971fe254bf7887497c806c54208",
            "2808ad56b248429db6068b85269ec8cf",
            "7e298fbffd714f1bba8082651e668ba8",
            "b6736cef636144c2bb0f7316c54538d2",
            "5224919ca24d4c2b9a3ba06bd1cd0f3f",
            "7c176ffb09874a298abe827855b28304",
            "f594862fa68841f7b1bc0ac7e6f5acec",
            "82b4b4409e094ba2be28aa7991cd7e6f",
            "23cb2e52d553436ca8212d426ba278df",
            "c786f0221bcf4bae8367a036124c2a08",
            "560d164de29a44a18c0991327f90c833",
            "721ca2426cec45e4b13ccfa2f5426689",
            "686386db29694abba2368f5f4b6eeb85",
            "7c1c672a2d1147d0a6745d176ee841dd",
            "2847da52b69c4be7a673fe3bf5532265",
            "6d25467d381e40d7a10b2a80c03679b1",
            "f26ef5a3369b4084b66b6d2739ab4e2b",
            "93c1fb19d29d4feba4c1e23d2cf4dea6",
            "902cbdc1626e4aa79e70d10dd9288b1a",
            "4aa41b75726a4947a2d74f2bca2b464e",
            "01cea23540804f93805c7f1af14085dd"
          ]
        },
        "id": "z8lnCdEAgzdh",
        "outputId": "a8a6e395-a057-4ff6-eae4-9b20113b2cff"
      },
      "outputs": [
        {
          "output_type": "stream",
          "name": "stdout",
          "text": [
            "Downloading and preparing dataset Unknown size (download: Unknown size, generated: Unknown size, total: Unknown size) to /root/tensorflow_datasets/imdb_reviews/plain_text/1.0.0...\n"
          ]
        },
        {
          "output_type": "display_data",
          "data": {
            "text/plain": [
              "Dl Completed...: 0 url [00:00, ? url/s]"
            ],
            "application/vnd.jupyter.widget-view+json": {
              "version_major": 2,
              "version_minor": 0,
              "model_id": "c2ab8b33ccea444e9c5d021b11c70ba6"
            }
          },
          "metadata": {}
        },
        {
          "output_type": "display_data",
          "data": {
            "text/plain": [
              "Dl Size...: 0 MiB [00:00, ? MiB/s]"
            ],
            "application/vnd.jupyter.widget-view+json": {
              "version_major": 2,
              "version_minor": 0,
              "model_id": "d2c86fc7f6344c43a1e15e9b6b5ed1fb"
            }
          },
          "metadata": {}
        },
        {
          "output_type": "display_data",
          "data": {
            "text/plain": [
              "Generating splits...:   0%|          | 0/3 [00:00<?, ? splits/s]"
            ],
            "application/vnd.jupyter.widget-view+json": {
              "version_major": 2,
              "version_minor": 0,
              "model_id": "f711054374d34923899b81d9217423dc"
            }
          },
          "metadata": {}
        },
        {
          "output_type": "display_data",
          "data": {
            "text/plain": [
              "Generating train examples...: 0 examples [00:00, ? examples/s]"
            ],
            "application/vnd.jupyter.widget-view+json": {
              "version_major": 2,
              "version_minor": 0,
              "model_id": "9fb8275975464fb493a0d9d60fb461f4"
            }
          },
          "metadata": {}
        },
        {
          "output_type": "display_data",
          "data": {
            "text/plain": [
              "Shuffling /root/tensorflow_datasets/imdb_reviews/plain_text/1.0.0.incompleteBCTX1H/imdb_reviews-train.tfrecord…"
            ],
            "application/vnd.jupyter.widget-view+json": {
              "version_major": 2,
              "version_minor": 0,
              "model_id": "86ff5f70f324406e9d59c31843969eb8"
            }
          },
          "metadata": {}
        },
        {
          "output_type": "display_data",
          "data": {
            "text/plain": [
              "Generating test examples...: 0 examples [00:00, ? examples/s]"
            ],
            "application/vnd.jupyter.widget-view+json": {
              "version_major": 2,
              "version_minor": 0,
              "model_id": "9c9beda523a24872935aaf388bd9bf6c"
            }
          },
          "metadata": {}
        },
        {
          "output_type": "display_data",
          "data": {
            "text/plain": [
              "Shuffling /root/tensorflow_datasets/imdb_reviews/plain_text/1.0.0.incompleteBCTX1H/imdb_reviews-test.tfrecord*…"
            ],
            "application/vnd.jupyter.widget-view+json": {
              "version_major": 2,
              "version_minor": 0,
              "model_id": "04be1accc0054c2cb3313c3c8edd6a10"
            }
          },
          "metadata": {}
        },
        {
          "output_type": "display_data",
          "data": {
            "text/plain": [
              "Generating unsupervised examples...: 0 examples [00:00, ? examples/s]"
            ],
            "application/vnd.jupyter.widget-view+json": {
              "version_major": 2,
              "version_minor": 0,
              "model_id": "52bab9e73cc3457f843272891fe16c48"
            }
          },
          "metadata": {}
        },
        {
          "output_type": "display_data",
          "data": {
            "text/plain": [
              "Shuffling /root/tensorflow_datasets/imdb_reviews/plain_text/1.0.0.incompleteBCTX1H/imdb_reviews-unsupervised.t…"
            ],
            "application/vnd.jupyter.widget-view+json": {
              "version_major": 2,
              "version_minor": 0,
              "model_id": "560d164de29a44a18c0991327f90c833"
            }
          },
          "metadata": {}
        },
        {
          "output_type": "stream",
          "name": "stdout",
          "text": [
            "Dataset imdb_reviews downloaded and prepared to /root/tensorflow_datasets/imdb_reviews/plain_text/1.0.0. Subsequent calls will reuse this data.\n",
            "Training set:  20000 samples\n",
            "Validation set:  5000 samples\n",
            "Test set:  25000 samples\n"
          ]
        }
      ],
      "source": [
        "# Load the IMDB movie review dataset, return text (movie review) and label (positive/negative)\n",
        "train_dataset, val_dataset, test_dataset = tfds.load(name=\"imdb_reviews\", split=('train[:80%]', 'train[80%:]', 'test'), as_supervised=True)\n",
        "\n",
        "print(\"Training set: \", len(train_dataset), \"samples\")\n",
        "print(\"Validation set: \", len(val_dataset), \"samples\")\n",
        "print(\"Test set: \", len(test_dataset), \"samples\")"
      ]
    },
    {
      "cell_type": "code",
      "execution_count": null,
      "metadata": {
        "id": "bLi3_5ApycVS",
        "outputId": "9170fc7c-1e6c-4207-ba95-6c13e0c2e0b2",
        "colab": {
          "base_uri": "https://localhost:8080/"
        }
      },
      "outputs": [
        {
          "output_type": "stream",
          "name": "stdout",
          "text": [
            "text:  b\"This was an absolutely terrible movie. Don't be lured in by Christopher Walken or Michael Ironside. Both are great actors, but this must simply be their worst role in history. Even their great acting could not redeem this movie's ridiculous storyline. This movie is an early nineties US propaganda piece. The most pathetic scenes were those when the Columbian rebels were making their cases for revolutions. Maria Conchita Alonso appeared phony, and her pseudo-love affair with Walken was nothing but a pathetic emotional plug in a movie that was devoid of any real meaning. I am disappointed that there are movies like this, ruining actor's like Christopher Walken's good name. I could barely sit through it.\"\n",
            "label:  0\n",
            "text:  b'I have been known to fall asleep during films, but this is usually due to a combination of things including, really tired, being warm and comfortable on the sette and having just eaten a lot. However on this occasion I fell asleep because the film was rubbish. The plot development was constant. Constantly slow and boring. Things seemed to happen, but with no explanation of what was causing them or why. I admit, I may have missed part of the film, but i watched the majority of it and everything just seemed to happen of its own accord without any real concern for anything else. I cant recommend this film at all.'\n",
            "label:  0\n",
            "text:  b'Mann photographs the Alberta Rocky Mountains in a superb fashion, and Jimmy Stewart and Walter Brennan give enjoyable performances as they always seem to do. <br /><br />But come on Hollywood - a Mountie telling the people of Dawson City, Yukon to elect themselves a marshal (yes a marshal!) and to enforce the law themselves, then gunfighters battling it out on the streets for control of the town? <br /><br />Nothing even remotely resembling that happened on the Canadian side of the border during the Klondike gold rush. Mr. Mann and company appear to have mistaken Dawson City for Deadwood, the Canadian North for the American Wild West.<br /><br />Canadian viewers be prepared for a Reefer Madness type of enjoyable howl with this ludicrous plot, or, to shake your head in disgust.'\n",
            "label:  0\n"
          ]
        }
      ],
      "source": [
        "# Show same samples in the training set\n",
        "for example, label in train_dataset.take(3):\n",
        "  print('text: ', example.numpy())\n",
        "  print('label: ', label.numpy())"
      ]
    },
    {
      "cell_type": "code",
      "execution_count": null,
      "metadata": {
        "id": "giI8qEUPNI7j",
        "colab": {
          "base_uri": "https://localhost:8080/"
        },
        "outputId": "d382ddad-65ad-4208-fc5b-26c64c01edaf"
      },
      "outputs": [
        {
          "output_type": "stream",
          "name": "stdout",
          "text": [
            "X_train shape: (20000,)\n",
            "y_train shape: (20000,)\n",
            "X_val shape: (5000,)\n",
            "y_val shape: (5000,)\n",
            "X_test shape: (25000,)\n",
            "y_test shape: (25000,)\n"
          ]
        }
      ],
      "source": [
        "### Convert Tensorflow Dataset to numpy arrays of feature vector X and label y\n",
        "\n",
        "# Convert training set\n",
        "train_ds_numpy = tfds.as_numpy(train_dataset) # Convert TF Dataset to an iterable of numpy array\n",
        "train_numpy = np.vstack(list(train_ds_numpy)) # Stack to full numpy array\n",
        "X_train = np.array(list(map(lambda x: x[0], train_numpy))) # Extract review (index 0) from numpy vector\n",
        "y_train = np.array(list(map(lambda x: x[1], train_numpy))).astype(np.int16) # Extract label (index 1) from numpy vector and convert grom string to number\n",
        "print(\"X_train shape: \" + str(X_train.shape))\n",
        "print(\"y_train shape: \" + str(y_train.shape))\n",
        "\n",
        "# Convert validation set\n",
        "val_ds_numpy = tfds.as_numpy(val_dataset) # Convert TF Dataset to an iterable of numpy array\n",
        "val_numpy = np.vstack(list(val_ds_numpy)) # Stack to full numpy array\n",
        "X_val = np.array(list(map(lambda x: x[0], val_numpy))) # Extract review (index 0) from numpy vector\n",
        "y_val = np.array(list(map(lambda x: x[1], val_numpy))).astype(np.int16) # Extract label (index 1) from numpy vector\n",
        "print(\"X_val shape: \" + str(X_val.shape))\n",
        "print(\"y_val shape: \" + str(y_val.shape))\n",
        "\n",
        "# Convert test set\n",
        "test_ds_numpy = tfds.as_numpy(test_dataset) # Convert TF Dataset to an iterable of numpy array\n",
        "test_numpy = np.vstack(list(test_ds_numpy)) # Stack to full numpy array\n",
        "X_test = np.array(list(map(lambda x: x[0], test_numpy))) # Extract review (index 0) from numpy vector\n",
        "y_test = np.array(list(map(lambda x: x[1], test_numpy))).astype(np.int16) # Extract label (index 1) from numpy vector\n",
        "print(\"X_test shape: \" + str(X_test.shape))\n",
        "print(\"y_test shape: \" + str(y_test.shape))"
      ]
    },
    {
      "cell_type": "code",
      "source": [
        "### TextVectorization layer maps text features to integer sequences.\n",
        "# Set vocabulary size for the training data\n",
        "VOCAB_SIZE = 1000\n",
        "\n",
        "# Initialize the TextVectorization layer for raw text encoding\n",
        "text_encoder = tf.keras.layers.TextVectorization(max_tokens=VOCAB_SIZE) # Maximum size of the vocabulary\n",
        "\n",
        "# Feed training text to adapt() method to calculate the layer's vocabulary \n",
        "text_encoder.adapt(X_train)"
      ],
      "metadata": {
        "id": "BTSwRmelqrGa"
      },
      "execution_count": null,
      "outputs": []
    },
    {
      "cell_type": "code",
      "source": [
        "# Show the first 20 tokens. After the padding ('') and unknown ([UNK]) tokens they're sorted by frequency.\n",
        "vocab = np.array(text_encoder.get_vocabulary()) # Get the vocabulary of the training set after the adaptation\n",
        "print(\"Vocabulary size:\", vocab.shape)\n",
        "vocab[:20] # Show the first 20 tokens (sorted by frequency) in the vocabulary"
      ],
      "metadata": {
        "colab": {
          "base_uri": "https://localhost:8080/"
        },
        "id": "f6-rUDAXquw4",
        "outputId": "4d32dfe7-9f45-47d3-af20-dfca08bbb185"
      },
      "execution_count": null,
      "outputs": [
        {
          "output_type": "stream",
          "name": "stdout",
          "text": [
            "Vocabulary size: (1000,)\n"
          ]
        },
        {
          "output_type": "execute_result",
          "data": {
            "text/plain": [
              "array(['', '[UNK]', 'the', 'and', 'a', 'of', 'to', 'is', 'in', 'it', 'i',\n",
              "       'this', 'that', 'br', 'was', 'as', 'for', 'with', 'movie', 'but'],\n",
              "      dtype='<U14')"
            ]
          },
          "metadata": {},
          "execution_count": 6
        }
      ]
    },
    {
      "cell_type": "code",
      "source": [
        "### Example of how a text vectorization layer works. It maps strings to integers.\n",
        "\n",
        "# Create the model that uses the text vectorization layer\n",
        "model_encoder = tf.keras.models.Sequential()\n",
        "\n",
        "# Creating an explicit input layer.\n",
        "# It needs to have a shape of (1,) (because we need to guarantee that there is exactly one string input per batch),\n",
        "model_encoder.add(tf.keras.Input(shape=(1,), dtype=tf.string))\n",
        "\n",
        "# The first (unique) layer in the model is the vectorization layer.\n",
        "# After this layer, we have a tensor of shape (batch_size, max_len) containing vocab indices.\n",
        "model_encoder.add(text_encoder)\n",
        "\n",
        "# The model can map strings to integers, and you can add an embedding layer to map these integers to learned embeddings.\n",
        "test_data = [[\"I want to drink\"], [\"I do not want to eat but I want to sleep\"]]\n",
        "model_encoder.predict(test_data)\n",
        "\n",
        "# Note: The tensors of indices are zero-padded to the longest sequence in the batch,\n",
        "# to make sure that all tensors of indices have the same size (for batching purpose)."
      ],
      "metadata": {
        "colab": {
          "base_uri": "https://localhost:8080/"
        },
        "id": "vE8ZNq1iqxgE",
        "outputId": "53156798-2cb0-4ae7-b884-c73bc85c8643"
      },
      "execution_count": null,
      "outputs": [
        {
          "output_type": "stream",
          "name": "stdout",
          "text": [
            "1/1 [==============================] - 0s 151ms/step\n"
          ]
        },
        {
          "output_type": "execute_result",
          "data": {
            "text/plain": [
              "array([[ 10, 179,   6,   1,   0,   0,   0,   0,   0,   0,   0],\n",
              "       [ 10,  79,  22, 179,   6,   1,  19,  10, 179,   6,   1]])"
            ]
          },
          "metadata": {},
          "execution_count": 5
        }
      ]
    },
    {
      "cell_type": "code",
      "source": [
        "# Note: the vectorization process is not completely reversible due to the limited vocabulary size\n",
        "print(\"Original: \", X_train[0])\n",
        "print()\n",
        "print(\"Round-trip: \", \" \".join(vocab[text_encoder(X_train[0]).numpy()]))"
      ],
      "metadata": {
        "colab": {
          "base_uri": "https://localhost:8080/"
        },
        "id": "Y2f5qkkAqzMl",
        "outputId": "398754db-fd96-4d9e-c0e3-b40b71773f03"
      },
      "execution_count": null,
      "outputs": [
        {
          "output_type": "stream",
          "name": "stdout",
          "text": [
            "Original:  b\"This was an absolutely terrible movie. Don't be lured in by Christopher Walken or Michael Ironside. Both are great actors, but this must simply be their worst role in history. Even their great acting could not redeem this movie's ridiculous storyline. This movie is an early nineties US propaganda piece. The most pathetic scenes were those when the Columbian rebels were making their cases for revolutions. Maria Conchita Alonso appeared phony, and her pseudo-love affair with Walken was nothing but a pathetic emotional plug in a movie that was devoid of any real meaning. I am disappointed that there are movies like this, ruining actor's like Christopher Walken's good name. I could barely sit through it.\"\n",
            "\n",
            "Round-trip:  this was an absolutely terrible movie dont be [UNK] in by [UNK] [UNK] or michael [UNK] both are great actors but this must simply be their worst role in history even their great acting could not [UNK] this movies ridiculous storyline this movie is an early [UNK] us [UNK] piece the most [UNK] scenes were those when the [UNK] [UNK] were making their [UNK] for [UNK] [UNK] [UNK] [UNK] [UNK] [UNK] and her [UNK] [UNK] with [UNK] was nothing but a [UNK] emotional [UNK] in a movie that was [UNK] of any real [UNK] i am disappointed that there are movies like this [UNK] actors like [UNK] [UNK] good name i could [UNK] sit through it\n"
          ]
        }
      ]
    },
    {
      "cell_type": "markdown",
      "source": [
        "#GRU Section"
      ],
      "metadata": {
        "id": "LZtXSgbiuHSt"
      }
    },
    {
      "cell_type": "code",
      "source": [
        "# Initialize a sequential model since all the layers in the model only have single input and produce single output\n",
        "model_gru = tf.keras.Sequential([\n",
        "    text_encoder, # Text encoder layer, i.e., TextVectorization layer\n",
        "    tf.keras.layers.Embedding( # Text embedding layer, i.e., turns positive integers (indexes) into dense vectors of fixed size.\n",
        "        input_dim=len(text_encoder.get_vocabulary()), # Get the size of word vocabulary (positive integers), VOCAB_SIZE.\n",
        "        output_dim=64, # Fixed size of the output embedding vectors which is fed as input of LSTM layer.\n",
        "        mask_zero=True), # Whether or not the input value 0 (the zero-padding) should be masked out\n",
        "        # Hence if mask_zero = True, index 0 cannot be used in the vocabulary (input_dim = vocabulary size + 1)\n",
        "    tf.keras.layers.GRU(units=64), # Output dimension of LSTM layer\n",
        "    tf.keras.layers.Dense(64, activation='relu'), # Dense layer\n",
        "    tf.keras.layers.Dense(1, activation='sigmoid') # Classification output\n",
        "])\n",
        "\n",
        "# Summarize the model\n",
        "model_gru.summary()\n",
        "print([layer.supports_masking for layer in model_gru.layers])\n"
      ],
      "metadata": {
        "colab": {
          "base_uri": "https://localhost:8080/"
        },
        "id": "1U6fv4w-q35v",
        "outputId": "7f82d5bd-16c3-4602-f6fc-0f9c40574d2c"
      },
      "execution_count": null,
      "outputs": [
        {
          "output_type": "stream",
          "name": "stdout",
          "text": [
            "Model: \"sequential_1\"\n",
            "_________________________________________________________________\n",
            " Layer (type)                Output Shape              Param #   \n",
            "=================================================================\n",
            " text_vectorization (TextVec  (None, None)             0         \n",
            " torization)                                                     \n",
            "                                                                 \n",
            " embedding (Embedding)       (None, None, 64)          64000     \n",
            "                                                                 \n",
            " gru (GRU)                   (None, 64)                24960     \n",
            "                                                                 \n",
            " dense (Dense)               (None, 64)                4160      \n",
            "                                                                 \n",
            " dense_1 (Dense)             (None, 1)                 65        \n",
            "                                                                 \n",
            "=================================================================\n",
            "Total params: 93,185\n",
            "Trainable params: 93,185\n",
            "Non-trainable params: 0\n",
            "_________________________________________________________________\n",
            "[False, True, True, True, True]\n"
          ]
        }
      ]
    },
    {
      "cell_type": "code",
      "source": [
        "# Compile the model\n",
        "model_gru.compile(loss='binary_crossentropy', # Binary classification loss\n",
        "              optimizer=tf.keras.optimizers.Adam(1e-3), # Optimizer\n",
        "              metrics=['accuracy']) # Evaluation metric\n",
        "\n",
        "# Train the model\n",
        "history_gru = model_gru.fit(X_train, y_train, epochs=10, batch_size = 2048, validation_data=(X_val, y_val)) # Here the test dataset is used as validtion set"
      ],
      "metadata": {
        "colab": {
          "base_uri": "https://localhost:8080/"
        },
        "id": "QbD4PceErI1C",
        "outputId": "c379d13b-cd52-45a6-c055-5291856837fe"
      },
      "execution_count": null,
      "outputs": [
        {
          "output_type": "stream",
          "name": "stdout",
          "text": [
            "Epoch 1/10\n",
            "10/10 [==============================] - 15s 534ms/step - loss: 0.6923 - accuracy: 0.5369 - val_loss: 0.6906 - val_accuracy: 0.5736\n",
            "Epoch 2/10\n",
            "10/10 [==============================] - 3s 310ms/step - loss: 0.6859 - accuracy: 0.6016 - val_loss: 0.6794 - val_accuracy: 0.6074\n",
            "Epoch 3/10\n",
            "10/10 [==============================] - 3s 308ms/step - loss: 0.6613 - accuracy: 0.6385 - val_loss: 0.6389 - val_accuracy: 0.6448\n",
            "Epoch 4/10\n",
            "10/10 [==============================] - 3s 307ms/step - loss: 0.5772 - accuracy: 0.7053 - val_loss: 0.4866 - val_accuracy: 0.7792\n",
            "Epoch 5/10\n",
            "10/10 [==============================] - 3s 324ms/step - loss: 0.4622 - accuracy: 0.7873 - val_loss: 0.5050 - val_accuracy: 0.7844\n",
            "Epoch 6/10\n",
            "10/10 [==============================] - 3s 296ms/step - loss: 0.4538 - accuracy: 0.7937 - val_loss: 0.4380 - val_accuracy: 0.7988\n",
            "Epoch 7/10\n",
            "10/10 [==============================] - 3s 285ms/step - loss: 0.3850 - accuracy: 0.8338 - val_loss: 0.3810 - val_accuracy: 0.8326\n",
            "Epoch 8/10\n",
            "10/10 [==============================] - 3s 331ms/step - loss: 0.3548 - accuracy: 0.8517 - val_loss: 0.3695 - val_accuracy: 0.8430\n",
            "Epoch 9/10\n",
            "10/10 [==============================] - 3s 325ms/step - loss: 0.3423 - accuracy: 0.8558 - val_loss: 0.3501 - val_accuracy: 0.8484\n",
            "Epoch 10/10\n",
            "10/10 [==============================] - 3s 275ms/step - loss: 0.3271 - accuracy: 0.8656 - val_loss: 0.3579 - val_accuracy: 0.8428\n"
          ]
        }
      ]
    },
    {
      "cell_type": "code",
      "source": [
        "# Visualize the training and validation loss over epochs\n",
        "plt.plot(history_gru.history['loss'])\n",
        "plt.plot(history_gru.history['val_loss'])\n",
        "plt.title('model loss')\n",
        "plt.ylabel('loss')\n",
        "plt.xlabel('epoch')\n",
        "plt.legend(['train', 'val'], loc='upper right')\n",
        "plt.show()"
      ],
      "metadata": {
        "colab": {
          "base_uri": "https://localhost:8080/",
          "height": 472
        },
        "id": "NHNGBlAsuilO",
        "outputId": "f22473a5-2f0b-4830-df9f-68f97747cb3d"
      },
      "execution_count": null,
      "outputs": [
        {
          "output_type": "display_data",
          "data": {
            "text/plain": [
              "<Figure size 640x480 with 1 Axes>"
            ],
            "image/png": "[encoded data removed]"
          },
          "metadata": {}
        }
      ]
    },
    {
      "cell_type": "code",
      "source": [
        "# Visualize the training and validation accuracy over epochs\n",
        "plt.plot(history_gru.history['accuracy'])\n",
        "plt.plot(history_gru.history['val_accuracy'])\n",
        "plt.title('model accuracy')\n",
        "plt.ylabel('accuracy')\n",
        "plt.xlabel('epoch')\n",
        "plt.legend(['train', 'val'], loc='upper left')\n",
        "plt.show()"
      ],
      "metadata": {
        "colab": {
          "base_uri": "https://localhost:8080/",
          "height": 472
        },
        "id": "aCN_EvPzuluG",
        "outputId": "c4d28a7b-3ad8-4599-bdd7-728974e4c137"
      },
      "execution_count": null,
      "outputs": [
        {
          "output_type": "display_data",
          "data": {
            "text/plain": [
              "<Figure size 640x480 with 1 Axes>"
            ],
            "image/png": "[encoded data removed]"
          },
          "metadata": {}
        }
      ]
    },
    {
      "cell_type": "code",
      "source": [
        "# Evaluate the model on the test set\n",
        "test_loss, test_acc = model_gru.evaluate(X_test, y_test)\n",
        "print('Test Loss:', test_loss)\n",
        "print('Test Accuracy:', test_acc)"
      ],
      "metadata": {
        "colab": {
          "base_uri": "https://localhost:8080/"
        },
        "id": "fCnYJ-tcr5QJ",
        "outputId": "270fa0e7-b066-4c0c-ed68-ade56bdec540"
      },
      "execution_count": null,
      "outputs": [
        {
          "output_type": "stream",
          "name": "stdout",
          "text": [
            "782/782 [==============================] - 10s 13ms/step - loss: 0.3525 - accuracy: 0.8493\n",
            "Test Loss: 0.35247647762298584\n",
            "Test Accuracy: 0.8492799997329712\n"
          ]
        }
      ]
    },
    {
      "cell_type": "markdown",
      "source": [
        "# Bi-LSTM Section"
      ],
      "metadata": {
        "id": "ZYqTdZIMLLXh"
      }
    },
    {
      "cell_type": "code",
      "source": [
        "# Initialize a sequential model since all the layers in the model only have single input and produce single output\n",
        "model_bi = tf.keras.Sequential([\n",
        "    text_encoder, # Text encoder layer, i.e., TextVectorization layer\n",
        "    tf.keras.layers.Embedding( # Text embedding layer, i.e., turns positive integers (indexes) into dense vectors of fixed size.\n",
        "        input_dim=len(text_encoder.get_vocabulary()), # Get the size of word vocabulary (positive integers), VOCAB_SIZE.\n",
        "        output_dim=64, # Fixed size of the output embedding vectors which is fed as input of LSTM layer.\n",
        "        mask_zero=True), # Whether or not the input value 0 (the zero-padding) should be masked out\n",
        "        # Hence if mask_zero = True, index 0 cannot be used in the vocabulary (input_dim = vocabulary size + 1)\n",
        "    tf.keras.layers.Bidirectional(tf.keras.layers.LSTM(64)),\n",
        "    tf.keras.layers.Dense(64, activation='relu'), # Dense layer\n",
        "    tf.keras.layers.Dense(1, activation='sigmoid') # Classification output\n",
        "])\n",
        "\n",
        "# Summarize the model\n",
        "model_bi.summary()\n",
        "\n",
        "print([layer.supports_masking for layer in model_bi.layers])"
      ],
      "metadata": {
        "colab": {
          "base_uri": "https://localhost:8080/"
        },
        "id": "PWpHD03PLPRm",
        "outputId": "e9ec9ecb-2fd5-4ff6-8f96-76ce2440215e"
      },
      "execution_count": null,
      "outputs": [
        {
          "output_type": "stream",
          "name": "stdout",
          "text": [
            "Model: \"sequential_4\"\n",
            "_________________________________________________________________\n",
            " Layer (type)                Output Shape              Param #   \n",
            "=================================================================\n",
            " text_vectorization (TextVec  (None, None)             0         \n",
            " torization)                                                     \n",
            "                                                                 \n",
            " embedding_3 (Embedding)     (None, None, 64)          64000     \n",
            "                                                                 \n",
            " bidirectional_4 (Bidirectio  (None, 128)              66048     \n",
            " nal)                                                            \n",
            "                                                                 \n",
            " dense_6 (Dense)             (None, 64)                8256      \n",
            "                                                                 \n",
            " dense_7 (Dense)             (None, 1)                 65        \n",
            "                                                                 \n",
            "=================================================================\n",
            "Total params: 138,369\n",
            "Trainable params: 138,369\n",
            "Non-trainable params: 0\n",
            "_________________________________________________________________\n",
            "[False, True, True, True, True]\n"
          ]
        }
      ]
    },
    {
      "cell_type": "code",
      "source": [
        "# Compile the model\n",
        "model_bi.compile(loss='binary_crossentropy', # Binary classification loss\n",
        "              optimizer=tf.keras.optimizers.Adam(1e-3), # Optimizer\n",
        "              metrics=['accuracy']) # Evaluation metric\n",
        "\n",
        "# Train the model\n",
        "history_bi = model_bi.fit(X_train, y_train, epochs=10, batch_size = 64, validation_data=(X_val, y_val)) # Here the test dataset is used as validtion set"
      ],
      "metadata": {
        "id": "sukndHWfONoY",
        "colab": {
          "base_uri": "https://localhost:8080/"
        },
        "outputId": "eda17233-16e4-4e11-e828-366bcd89f34b"
      },
      "execution_count": null,
      "outputs": [
        {
          "output_type": "stream",
          "name": "stdout",
          "text": [
            "Epoch 1/10\n",
            "313/313 [==============================] - 55s 143ms/step - loss: 0.4984 - accuracy: 0.7414 - val_loss: 0.4135 - val_accuracy: 0.8054\n",
            "Epoch 2/10\n",
            "313/313 [==============================] - 29s 93ms/step - loss: 0.3514 - accuracy: 0.8501 - val_loss: 0.4031 - val_accuracy: 0.8306\n",
            "Epoch 3/10\n",
            "313/313 [==============================] - 23s 75ms/step - loss: 0.3341 - accuracy: 0.8587 - val_loss: 0.3372 - val_accuracy: 0.8524\n",
            "Epoch 4/10\n",
            "313/313 [==============================] - 23s 74ms/step - loss: 0.3146 - accuracy: 0.8666 - val_loss: 0.3381 - val_accuracy: 0.8544\n",
            "Epoch 5/10\n",
            "313/313 [==============================] - 23s 74ms/step - loss: 0.3024 - accuracy: 0.8730 - val_loss: 0.3382 - val_accuracy: 0.8552\n",
            "Epoch 6/10\n",
            "313/313 [==============================] - 23s 75ms/step - loss: 0.2795 - accuracy: 0.8819 - val_loss: 0.3600 - val_accuracy: 0.8426\n",
            "Epoch 7/10\n",
            "313/313 [==============================] - 23s 73ms/step - loss: 0.2639 - accuracy: 0.8898 - val_loss: 0.4027 - val_accuracy: 0.8170\n",
            "Epoch 8/10\n",
            "313/313 [==============================] - 22s 70ms/step - loss: 0.2527 - accuracy: 0.8955 - val_loss: 0.3802 - val_accuracy: 0.8446\n",
            "Epoch 9/10\n",
            "313/313 [==============================] - 23s 72ms/step - loss: 0.2346 - accuracy: 0.9039 - val_loss: 0.3894 - val_accuracy: 0.8396\n",
            "Epoch 10/10\n",
            "313/313 [==============================] - 23s 73ms/step - loss: 0.2232 - accuracy: 0.9085 - val_loss: 0.3964 - val_accuracy: 0.8514\n"
          ]
        }
      ]
    },
    {
      "cell_type": "code",
      "source": [
        "# Visualize the training and validation loss over epochs\n",
        "plt.plot(history_bi.history['loss'])\n",
        "plt.plot(history_bi.history['val_loss'])\n",
        "plt.title('model loss')\n",
        "plt.ylabel('loss')\n",
        "plt.xlabel('epoch')\n",
        "plt.legend(['train', 'val'], loc='upper right')\n",
        "plt.show()"
      ],
      "metadata": {
        "id": "9ITMWIWYOVQS",
        "colab": {
          "base_uri": "https://localhost:8080/",
          "height": 472
        },
        "outputId": "8ff30900-5ec4-4baf-c818-4480af53ec22"
      },
      "execution_count": null,
      "outputs": [
        {
          "output_type": "display_data",
          "data": {
            "text/plain": [
              "<Figure size 640x480 with 1 Axes>"
            ],
            "image/png": "[encoded data removed]"
          },
          "metadata": {}
        }
      ]
    },
    {
      "cell_type": "code",
      "source": [
        "# Visualize the training and validation accuracy over epochs\n",
        "plt.plot(history_bi.history['accuracy'])\n",
        "plt.plot(history_bi.history['val_accuracy'])\n",
        "plt.title('model accuracy')\n",
        "plt.ylabel('accuracy')\n",
        "plt.xlabel('epoch')\n",
        "plt.legend(['train', 'val'], loc='upper left')\n",
        "plt.show()"
      ],
      "metadata": {
        "id": "f_ZOFQXkOfsD",
        "colab": {
          "base_uri": "https://localhost:8080/",
          "height": 472
        },
        "outputId": "1ed7c94a-4ca6-4c53-8200-7eee73a27828"
      },
      "execution_count": null,
      "outputs": [
        {
          "output_type": "display_data",
          "data": {
            "text/plain": [
              "<Figure size 640x480 with 1 Axes>"
            ],
            "image/png": "[encoded data removed]"
          },
          "metadata": {}
        }
      ]
    },
    {
      "cell_type": "code",
      "source": [
        "# Evaluate the model on the test set\n",
        "test_loss, test_acc = model_bi.evaluate(X_test, y_test)\n",
        "print('Test Loss:', test_loss)\n",
        "print('Test Accuracy:', test_acc)"
      ],
      "metadata": {
        "id": "E-xDapiHOhsx",
        "colab": {
          "base_uri": "https://localhost:8080/"
        },
        "outputId": "9de5a7aa-f411-48d4-e187-3dbce7b71411"
      },
      "execution_count": null,
      "outputs": [
        {
          "output_type": "stream",
          "name": "stdout",
          "text": [
            "782/782 [==============================] - 19s 24ms/step - loss: 0.3822 - accuracy: 0.8526\n",
            "Test Loss: 0.3821929395198822\n",
            "Test Accuracy: 0.8526399731636047\n"
          ]
        }
      ]
    },
    {
      "cell_type": "markdown",
      "source": [
        "# Conv1D Section"
      ],
      "metadata": {
        "id": "0mwnCNccIo_U"
      }
    },
    {
      "cell_type": "code",
      "source": [
        "# Initialize a sequential model since all the layers in the model only have single input and produce single output\n",
        "model_conv = tf.keras.Sequential([\n",
        "    text_encoder, # Text encoder layer, i.e., TextVectorization layer\n",
        "    tf.keras.layers.Embedding( # Text embedding layer, i.e., turns positive integers (indexes) into dense vectors of fixed size.\n",
        "        input_dim=len(text_encoder.get_vocabulary()), # Get the size of word vocabulary (positive integers), VOCAB_SIZE.\n",
        "        output_dim=64,\n",
        "        mask_zero=True), # Whether or not the input value 0 (the zero-padding) should be masked out\n",
        "        # Hence if mask_zero = True, index 0 cannot be used in the vocabulary (input_dim = vocabulary size + 1)\n",
        "    tf.keras.layers.Conv1D(filters=128, kernel_size=3, strides=1, padding='same', activation='relu'),\n",
        "    tf.keras.layers.MaxPooling1D(pool_size=3, strides=2, padding='same'),\n",
        "    tf.keras.layers.BatchNormalization(),\n",
        "    tf.keras.layers.GlobalMaxPooling1D(),\n",
        "    tf.keras.layers.Dense(64, activation='relu'), # Dense layer   \n",
        "    tf.keras.layers.Dense(1, activation='sigmoid') # Classification output\n",
        "])\n",
        "\n",
        "# Summarize the model\n",
        "model_conv.summary()\n",
        "print([layer.supports_masking for layer in model_conv.layers])"
      ],
      "metadata": {
        "colab": {
          "base_uri": "https://localhost:8080/"
        },
        "id": "ud1SLXI5Iumn",
        "outputId": "8472b690-650a-4f21-ecbb-da69c2e8f546"
      },
      "execution_count": null,
      "outputs": [
        {
          "output_type": "stream",
          "name": "stdout",
          "text": [
            "Model: \"sequential_5\"\n",
            "_________________________________________________________________\n",
            " Layer (type)                Output Shape              Param #   \n",
            "=================================================================\n",
            " text_vectorization (TextVec  (None, None)             0         \n",
            " torization)                                                     \n",
            "                                                                 \n",
            " embedding_4 (Embedding)     (None, None, 64)          64000     \n",
            "                                                                 \n",
            " conv1d (Conv1D)             (None, None, 128)         24704     \n",
            "                                                                 \n",
            " max_pooling1d (MaxPooling1D  (None, None, 128)        0         \n",
            " )                                                               \n",
            "                                                                 \n",
            " batch_normalization (BatchN  (None, None, 128)        512       \n",
            " ormalization)                                                   \n",
            "                                                                 \n",
            " global_max_pooling1d (Globa  (None, 128)              0         \n",
            " lMaxPooling1D)                                                  \n",
            "                                                                 \n",
            " dense_8 (Dense)             (None, 64)                8256      \n",
            "                                                                 \n",
            " dense_9 (Dense)             (None, 1)                 65        \n",
            "                                                                 \n",
            "=================================================================\n",
            "Total params: 97,537\n",
            "Trainable params: 97,281\n",
            "Non-trainable params: 256\n",
            "_________________________________________________________________\n",
            "[False, True, False, False, True, False, True, True]\n"
          ]
        }
      ]
    },
    {
      "cell_type": "code",
      "source": [
        "# Compile the model\n",
        "model_conv.compile(loss='binary_crossentropy', # Binary classification loss\n",
        "              optimizer=tf.keras.optimizers.Adam(1e-3), # Optimizer\n",
        "              metrics=['accuracy']) # Evaluation metric\n",
        "\n",
        "# Train the model\n",
        "history_conv = model_conv.fit(X_train, y_train, epochs=10, batch_size = 64, validation_data=(X_val, y_val)) # Here the test dataset is used as validtion set"
      ],
      "metadata": {
        "colab": {
          "base_uri": "https://localhost:8080/"
        },
        "id": "FRXVVsuqNgAa",
        "outputId": "4dabb3d6-b6ed-486b-9cbd-8fe88c8dbc60"
      },
      "execution_count": null,
      "outputs": [
        {
          "output_type": "stream",
          "name": "stdout",
          "text": [
            "Epoch 1/10\n",
            "313/313 [==============================] - 45s 118ms/step - loss: 0.4237 - accuracy: 0.7979 - val_loss: 0.5392 - val_accuracy: 0.8440\n",
            "Epoch 2/10\n",
            "313/313 [==============================] - 12s 37ms/step - loss: 0.2634 - accuracy: 0.8912 - val_loss: 0.3359 - val_accuracy: 0.8556\n",
            "Epoch 3/10\n",
            "313/313 [==============================] - 9s 29ms/step - loss: 0.1833 - accuracy: 0.9278 - val_loss: 0.3500 - val_accuracy: 0.8630\n",
            "Epoch 4/10\n",
            "313/313 [==============================] - 8s 27ms/step - loss: 0.1070 - accuracy: 0.9622 - val_loss: 0.4091 - val_accuracy: 0.8542\n",
            "Epoch 5/10\n",
            "313/313 [==============================] - 8s 27ms/step - loss: 0.0638 - accuracy: 0.9783 - val_loss: 0.4833 - val_accuracy: 0.8572\n",
            "Epoch 6/10\n",
            "313/313 [==============================] - 7s 23ms/step - loss: 0.0496 - accuracy: 0.9826 - val_loss: 0.5775 - val_accuracy: 0.8430\n",
            "Epoch 7/10\n",
            "313/313 [==============================] - 7s 23ms/step - loss: 0.0456 - accuracy: 0.9845 - val_loss: 0.6113 - val_accuracy: 0.8458\n",
            "Epoch 8/10\n",
            "313/313 [==============================] - 6s 20ms/step - loss: 0.0574 - accuracy: 0.9783 - val_loss: 0.6237 - val_accuracy: 0.8552\n",
            "Epoch 9/10\n",
            "313/313 [==============================] - 7s 24ms/step - loss: 0.0385 - accuracy: 0.9860 - val_loss: 0.7000 - val_accuracy: 0.8418\n",
            "Epoch 10/10\n",
            "313/313 [==============================] - 7s 22ms/step - loss: 0.0240 - accuracy: 0.9917 - val_loss: 0.8539 - val_accuracy: 0.8326\n"
          ]
        }
      ]
    },
    {
      "cell_type": "code",
      "source": [
        "# Visualize the training and validation loss over epochs\n",
        "plt.plot(history_conv.history['loss'])\n",
        "plt.plot(history_conv.history['val_loss'])\n",
        "plt.title('model loss')\n",
        "plt.ylabel('loss')\n",
        "plt.xlabel('epoch')\n",
        "plt.legend(['train', 'val'], loc='upper right')\n",
        "plt.show()"
      ],
      "metadata": {
        "colab": {
          "base_uri": "https://localhost:8080/",
          "height": 472
        },
        "id": "tHytmXPfOBRP",
        "outputId": "e5df2bb5-845f-48bb-e9e2-d081ed2a97a4"
      },
      "execution_count": null,
      "outputs": [
        {
          "output_type": "display_data",
          "data": {
            "text/plain": [
              "<Figure size 640x480 with 1 Axes>"
            ],
            "image/png": "[encoded data removed]"
          },
          "metadata": {}
        }
      ]
    },
    {
      "cell_type": "code",
      "source": [
        "# Visualize the training and validation accuracy over epochs\n",
        "plt.plot(history_conv.history['accuracy'])\n",
        "plt.plot(history_conv.history['val_accuracy'])\n",
        "plt.title('model accuracy')\n",
        "plt.ylabel('accuracy')\n",
        "plt.xlabel('epoch')\n",
        "plt.legend(['train', 'val'], loc='upper left')\n",
        "plt.show()"
      ],
      "metadata": {
        "colab": {
          "base_uri": "https://localhost:8080/",
          "height": 472
        },
        "id": "49cS3LMSOBa2",
        "outputId": "2bc5fb9d-504d-4dc9-dd80-6b5149603297"
      },
      "execution_count": null,
      "outputs": [
        {
          "output_type": "display_data",
          "data": {
            "text/plain": [
              "<Figure size 640x480 with 1 Axes>"
            ],
            "image/png": "[encoded data removed]"
          },
          "metadata": {}
        }
      ]
    },
    {
      "cell_type": "code",
      "source": [
        "# Evaluate the model on the test set\n",
        "test_loss, test_acc = model_conv.evaluate(X_test, y_test)\n",
        "print('Test Loss:', test_loss)\n",
        "print('Test Accuracy:', test_acc)"
      ],
      "metadata": {
        "colab": {
          "base_uri": "https://localhost:8080/"
        },
        "id": "xhGq5kevOBk_",
        "outputId": "3434dd68-fbab-4b49-a700-aa2df8f533e8"
      },
      "execution_count": null,
      "outputs": [
        {
          "output_type": "stream",
          "name": "stdout",
          "text": [
            "782/782 [==============================] - 14s 18ms/step - loss: 0.8347 - accuracy: 0.8346\n",
            "Test Loss: 0.8346829414367676\n",
            "Test Accuracy: 0.834559977054596\n"
          ]
        }
      ]
    },
    {
      "cell_type": "markdown",
      "source": [
        "# GloVe Section"
      ],
      "metadata": {
        "id": "2cJsznqEvYt4"
      }
    },
    {
      "cell_type": "code",
      "source": [
        "from google.colab import drive\n",
        "drive.mount('/content/drive')"
      ],
      "metadata": {
        "colab": {
          "base_uri": "https://localhost:8080/"
        },
        "id": "NhaGS9sLtJ9g",
        "outputId": "4d17625d-285b-4769-973b-7553b63ed875"
      },
      "execution_count": null,
      "outputs": [
        {
          "output_type": "stream",
          "name": "stdout",
          "text": [
            "Mounted at /content/drive\n"
          ]
        }
      ]
    },
    {
      "cell_type": "code",
      "source": [
        "from tensorflow.keras.preprocessing.text import Tokenizer\n",
        "from tensorflow.keras.preprocessing.sequence import pad_sequences \n",
        "\n",
        "tokenizer = Tokenizer(num_words=VOCAB_SIZE)\n",
        "\n",
        "tokenizer.fit_on_texts([x.decode('utf-8') for x in X_train])"
      ],
      "metadata": {
        "id": "T17l1gINMb0-"
      },
      "execution_count": null,
      "outputs": []
    },
    {
      "cell_type": "code",
      "source": [
        "embeddings_dictionary = dict()\n",
        "glove_file = open('/content/drive/MyDrive/glove.6B.50d.txt', encoding=\"utf8\")\n",
        "\n",
        "for line in glove_file:\n",
        "    records = line.split()\n",
        "    word = records[0]\n",
        "    vector_dimensions = np.array(records[1:], dtype='float64')\n",
        "    embeddings_dictionary[word] = vector_dimensions\n",
        "glove_file.close()"
      ],
      "metadata": {
        "id": "K5HQQWkgvnLM"
      },
      "execution_count": null,
      "outputs": []
    },
    {
      "cell_type": "code",
      "source": [
        "embedding_matrix = np.zeros((len(tokenizer.word_index) + 1, 50))\n",
        "for word, index in tokenizer.word_index.items():\n",
        "    embedding_vector = embeddings_dictionary.get(word)\n",
        "    if embedding_vector is not None:\n",
        "        embedding_matrix[index] = embedding_vector"
      ],
      "metadata": {
        "id": "pXry0oWVqPG7"
      },
      "execution_count": null,
      "outputs": []
    },
    {
      "cell_type": "markdown",
      "source": [
        "**Glove model with unchanged data set compared to other implementations and use text_vectorization layer:**"
      ],
      "metadata": {
        "id": "2PiFcJFD2mkT"
      }
    },
    {
      "cell_type": "code",
      "source": [
        "# Initialize a sequential model since all the layers in the model only have single input and produce single output\n",
        "model_glove = tf.keras.Sequential([\n",
        "    text_encoder, # Text encoder layer, i.e., TextVectorization layer\n",
        "    tf.keras.layers.Embedding( # Text embedding layer, i.e., turns positive integers (indexes) into dense vectors of fixed size.\n",
        "        input_dim=len(tokenizer.word_index) + 1, # Get the size of word vocabulary (positive integers), VOCAB_SIZE.\n",
        "        output_dim=50,\n",
        "        mask_zero=True, # Fixed size of the output embedding vectors which is fed as input of LSTM layer.\n",
        "        weights=[embedding_matrix]),\n",
        "             # Whether or not the input value 0 (the zero-padding) should be masked out\n",
        "        # Hence if mask_zero = True, index 0 cannot be used in the vocabulary (input_dim = vocabulary size + 1)\n",
        "    tf.keras.layers.LSTM(units=64), # Output dimension of LSTM layer\n",
        "    tf.keras.layers.Dense(64, activation='relu'), # Dense layer\n",
        "    tf.keras.layers.Dense(1, activation='sigmoid') # Classification output\n",
        "])\n",
        "\n",
        "# Summarize the model\n",
        "model_glove.summary()\n",
        "print([layer.supports_masking for layer in model_glove.layers])\n"
      ],
      "metadata": {
        "colab": {
          "base_uri": "https://localhost:8080/"
        },
        "id": "HqcLmjB64X_C",
        "outputId": "1579079e-3a18-4192-924d-8be21484e71e"
      },
      "execution_count": null,
      "outputs": [
        {
          "output_type": "stream",
          "name": "stdout",
          "text": [
            "Model: \"sequential_6\"\n",
            "_________________________________________________________________\n",
            " Layer (type)                Output Shape              Param #   \n",
            "=================================================================\n",
            " text_vectorization (TextVec  (None, None)             0         \n",
            " torization)                                                     \n",
            "                                                                 \n",
            " embedding_5 (Embedding)     (None, None, 50)          4007650   \n",
            "                                                                 \n",
            " lstm_5 (LSTM)               (None, 64)                29440     \n",
            "                                                                 \n",
            " dense_10 (Dense)            (None, 64)                4160      \n",
            "                                                                 \n",
            " dense_11 (Dense)            (None, 1)                 65        \n",
            "                                                                 \n",
            "=================================================================\n",
            "Total params: 4,041,315\n",
            "Trainable params: 4,041,315\n",
            "Non-trainable params: 0\n",
            "_________________________________________________________________\n",
            "[False, True, True, True, True]\n"
          ]
        }
      ]
    },
    {
      "cell_type": "code",
      "source": [
        "# Compile the model\n",
        "model_glove.compile(loss='binary_crossentropy', # Binary classification loss\n",
        "              optimizer=tf.keras.optimizers.Adam(1e-3), # Optimizer\n",
        "              metrics=['accuracy']) # Evaluation metric\n",
        "\n",
        "# Train the model\n",
        "history_glove = model_glove.fit(X_train, y_train, epochs=10, batch_size = 128, validation_data=(X_val, y_val)) # Here the test dataset is used as validtion set"
      ],
      "metadata": {
        "colab": {
          "base_uri": "https://localhost:8080/"
        },
        "id": "g33oqEQE5TPf",
        "outputId": "5cc0c85d-9033-4723-ab44-f0a1ee7de74c"
      },
      "execution_count": null,
      "outputs": [
        {
          "output_type": "stream",
          "name": "stdout",
          "text": [
            "Epoch 1/10\n",
            "157/157 [==============================] - 24s 121ms/step - loss: 0.6606 - accuracy: 0.5923 - val_loss: 0.5716 - val_accuracy: 0.7034\n",
            "Epoch 2/10\n",
            "157/157 [==============================] - 9s 57ms/step - loss: 0.5003 - accuracy: 0.7631 - val_loss: 0.4457 - val_accuracy: 0.7956\n",
            "Epoch 3/10\n",
            "157/157 [==============================] - 10s 64ms/step - loss: 0.4062 - accuracy: 0.8255 - val_loss: 0.3669 - val_accuracy: 0.8378\n",
            "Epoch 4/10\n",
            "157/157 [==============================] - 10s 62ms/step - loss: 0.3697 - accuracy: 0.8404 - val_loss: 0.3567 - val_accuracy: 0.8476\n",
            "Epoch 5/10\n",
            "157/157 [==============================] - 8s 48ms/step - loss: 0.3565 - accuracy: 0.8493 - val_loss: 0.4327 - val_accuracy: 0.7992\n",
            "Epoch 6/10\n",
            "157/157 [==============================] - 10s 61ms/step - loss: 0.3328 - accuracy: 0.8615 - val_loss: 0.3399 - val_accuracy: 0.8600\n",
            "Epoch 7/10\n",
            "157/157 [==============================] - 10s 65ms/step - loss: 0.3310 - accuracy: 0.8608 - val_loss: 0.3413 - val_accuracy: 0.8614\n",
            "Epoch 8/10\n",
            "157/157 [==============================] - 8s 50ms/step - loss: 0.3130 - accuracy: 0.8698 - val_loss: 0.3434 - val_accuracy: 0.8502\n",
            "Epoch 9/10\n",
            "157/157 [==============================] - 10s 63ms/step - loss: 0.2994 - accuracy: 0.8720 - val_loss: 0.3361 - val_accuracy: 0.8610\n",
            "Epoch 10/10\n",
            "157/157 [==============================] - 10s 62ms/step - loss: 0.2848 - accuracy: 0.8813 - val_loss: 0.3287 - val_accuracy: 0.8600\n"
          ]
        }
      ]
    },
    {
      "cell_type": "code",
      "source": [
        "# Visualize the training and validation loss over epochs\n",
        "plt.plot(history_glove.history['loss'])\n",
        "plt.plot(history_glove.history['val_loss'])\n",
        "plt.title('model loss')\n",
        "plt.ylabel('loss')\n",
        "plt.xlabel('epoch')\n",
        "plt.legend(['train', 'val'], loc='upper right')\n",
        "plt.show()"
      ],
      "metadata": {
        "id": "dwvx7UcY5TXh",
        "colab": {
          "base_uri": "https://localhost:8080/",
          "height": 472
        },
        "outputId": "4c0a96dd-8c8d-402f-876e-4d0bcafe1a2b"
      },
      "execution_count": null,
      "outputs": [
        {
          "output_type": "display_data",
          "data": {
            "text/plain": [
              "<Figure size 640x480 with 1 Axes>"
            ],
            "image/png": "[encoded data removed]"
          },
          "metadata": {}
        }
      ]
    },
    {
      "cell_type": "code",
      "source": [
        "# Visualize the training and validation accuracy over epochs\n",
        "plt.plot(history_glove.history['accuracy'])\n",
        "plt.plot(history_glove.history['val_accuracy'])\n",
        "plt.title('model accuracy')\n",
        "plt.ylabel('accuracy')\n",
        "plt.xlabel('epoch')\n",
        "plt.legend(['train', 'val'], loc='upper left')\n",
        "plt.show()"
      ],
      "metadata": {
        "id": "bFi1h4Pk5TdR",
        "colab": {
          "base_uri": "https://localhost:8080/",
          "height": 472
        },
        "outputId": "89e749c8-a98f-41b9-e632-4f184887d2e6"
      },
      "execution_count": null,
      "outputs": [
        {
          "output_type": "display_data",
          "data": {
            "text/plain": [
              "<Figure size 640x480 with 1 Axes>"
            ],
            "image/png": "[encoded data removed]"
          },
          "metadata": {}
        }
      ]
    },
    {
      "cell_type": "code",
      "source": [
        "# Evaluate the model on the test set\n",
        "test_loss, test_acc = model_glove.evaluate(X_test, y_test)\n",
        "print('Test Loss:', test_loss)\n",
        "print('Test Accuracy:', test_acc)"
      ],
      "metadata": {
        "id": "pwj60ReD5gK4",
        "colab": {
          "base_uri": "https://localhost:8080/"
        },
        "outputId": "0d922c98-4147-41a0-cab5-d45fae917cc0"
      },
      "execution_count": null,
      "outputs": [
        {
          "output_type": "stream",
          "name": "stdout",
          "text": [
            "782/782 [==============================] - 17s 22ms/step - loss: 0.3238 - accuracy: 0.8612\n",
            "Test Loss: 0.3238295018672943\n",
            "Test Accuracy: 0.8611599802970886\n"
          ]
        }
      ]
    },
    {
      "cell_type": "markdown",
      "source": [
        "**Glove model with modified dataset using tokenizer.texts_to_sequences and pad_sequences and then removing the text_vectorization layer:**"
      ],
      "metadata": {
        "id": "wUQaVOoE2q0x"
      }
    },
    {
      "cell_type": "code",
      "source": [
        "X_train_glove = tokenizer.texts_to_sequences([x.decode('utf-8') for x in X_train])\n",
        "X_val_glove = tokenizer.texts_to_sequences([x.decode('utf-8') for x in X_val])\n",
        "X_test_glove = tokenizer.texts_to_sequences([x.decode('utf-8') for x in X_test])\n",
        "\n",
        "X_train_glove = pad_sequences(X_train_glove, padding = 'post')\n",
        "X_val_glove = pad_sequences(X_val_glove, padding = 'post')\n",
        "X_test_glove = pad_sequences(X_test_glove, padding = 'post')"
      ],
      "metadata": {
        "id": "0mYy-6Do2s5C"
      },
      "execution_count": null,
      "outputs": []
    },
    {
      "cell_type": "code",
      "source": [
        "# Initialize a sequential model since all the layers in the model only have single input and produce single output\n",
        "model_glove_changed = tf.keras.Sequential([\n",
        "    tf.keras.layers.Embedding( # Text embedding layer, i.e., turns positive integers (indexes) into dense vectors of fixed size.\n",
        "        input_dim=len(tokenizer.word_index) + 1, # Get the size of word vocabulary (positive integers), VOCAB_SIZE.\n",
        "        output_dim=50,\n",
        "        weights=[embedding_matrix],\n",
        "        trainable=False),\n",
        "    tf.keras.layers.LSTM(units=64), # Output dimension of LSTM layer\n",
        "    tf.keras.layers.Dense(64, activation='relu'), # Dense layer\n",
        "    tf.keras.layers.Dense(1, activation='sigmoid') # Classification output\n",
        "])\n",
        "\n",
        "# Summarize the model\n",
        "model_glove_changed.summary()\n"
      ],
      "metadata": {
        "colab": {
          "base_uri": "https://localhost:8080/"
        },
        "id": "8aAp3pGe2vcc",
        "outputId": "77a7b5c8-2138-4cca-a519-e2da5d94efe0"
      },
      "execution_count": null,
      "outputs": [
        {
          "output_type": "stream",
          "name": "stdout",
          "text": [
            "Model: \"sequential_2\"\n",
            "_________________________________________________________________\n",
            " Layer (type)                Output Shape              Param #   \n",
            "=================================================================\n",
            " embedding_2 (Embedding)     (None, None, 50)          4007650   \n",
            "                                                                 \n",
            " lstm_2 (LSTM)               (None, 64)                29440     \n",
            "                                                                 \n",
            " dense_4 (Dense)             (None, 64)                4160      \n",
            "                                                                 \n",
            " dense_5 (Dense)             (None, 1)                 65        \n",
            "                                                                 \n",
            "=================================================================\n",
            "Total params: 4,041,315\n",
            "Trainable params: 33,665\n",
            "Non-trainable params: 4,007,650\n",
            "_________________________________________________________________\n"
          ]
        }
      ]
    },
    {
      "cell_type": "code",
      "source": [
        "# Compile the model\n",
        "model_glove_changed.compile(loss='binary_crossentropy', # Binary classification loss\n",
        "              optimizer=tf.keras.optimizers.Adam(1e-3), # Optimizer\n",
        "              metrics=['accuracy']) # Evaluation metric\n",
        "\n",
        "# Train the model\n",
        "history_glove_changed = model_glove_changed.fit(X_train_glove, y_train, epochs=10, batch_size = 128, validation_data=(X_val_glove, y_val)) # Here the test dataset is used as validtion set"
      ],
      "metadata": {
        "colab": {
          "base_uri": "https://localhost:8080/"
        },
        "id": "WyooPnUh26oE",
        "outputId": "e346eafc-eca3-4339-a496-aeabe89bc983"
      },
      "execution_count": null,
      "outputs": [
        {
          "output_type": "stream",
          "name": "stdout",
          "text": [
            "Epoch 1/10\n",
            "157/157 [==============================] - 11s 56ms/step - loss: 0.6932 - accuracy: 0.5023 - val_loss: 0.6931 - val_accuracy: 0.4940\n",
            "Epoch 2/10\n",
            "157/157 [==============================] - 9s 55ms/step - loss: 0.6931 - accuracy: 0.5035 - val_loss: 0.6935 - val_accuracy: 0.4940\n",
            "Epoch 3/10\n",
            "157/157 [==============================] - 9s 59ms/step - loss: 0.6932 - accuracy: 0.4951 - val_loss: 0.6930 - val_accuracy: 0.5062\n",
            "Epoch 4/10\n",
            "157/157 [==============================] - 8s 53ms/step - loss: 0.6931 - accuracy: 0.5003 - val_loss: 0.6930 - val_accuracy: 0.4942\n",
            "Epoch 5/10\n",
            "157/157 [==============================] - 9s 60ms/step - loss: 0.6931 - accuracy: 0.5016 - val_loss: 0.6931 - val_accuracy: 0.4942\n",
            "Epoch 6/10\n",
            "157/157 [==============================] - 9s 61ms/step - loss: 0.6931 - accuracy: 0.5016 - val_loss: 0.6930 - val_accuracy: 0.4942\n",
            "Epoch 7/10\n",
            "157/157 [==============================] - 8s 54ms/step - loss: 0.6931 - accuracy: 0.4973 - val_loss: 0.6931 - val_accuracy: 0.4942\n",
            "Epoch 8/10\n",
            "157/157 [==============================] - 9s 57ms/step - loss: 0.6931 - accuracy: 0.4954 - val_loss: 0.6930 - val_accuracy: 0.4942\n",
            "Epoch 9/10\n",
            "157/157 [==============================] - 9s 55ms/step - loss: 0.6931 - accuracy: 0.5016 - val_loss: 0.6930 - val_accuracy: 0.4942\n",
            "Epoch 10/10\n",
            "157/157 [==============================] - 8s 52ms/step - loss: 0.6931 - accuracy: 0.4973 - val_loss: 0.6930 - val_accuracy: 0.4942\n"
          ]
        }
      ]
    },
    {
      "cell_type": "code",
      "source": [
        "# Evaluate the model on the test set\n",
        "test_loss, test_acc = model_glove_changed.evaluate(X_test_glove, y_test)\n",
        "print('Test Loss:', test_loss)\n",
        "print('Test Accuracy:', test_acc)"
      ],
      "metadata": {
        "id": "28KvonZP3vP5"
      },
      "execution_count": null,
      "outputs": []
    },
    {
      "cell_type": "markdown",
      "source": [
        "# LSTM Without Glove Section (To compare with other implementations)"
      ],
      "metadata": {
        "id": "tjjRUUW5O4Jn"
      }
    },
    {
      "cell_type": "code",
      "source": [
        "# Initialize a sequential model since all the layers in the model only have single input and produce single output\n",
        "model = tf.keras.Sequential([\n",
        "    text_encoder, # Text encoder layer, i.e., TextVectorization layer\n",
        "    tf.keras.layers.Embedding( # Text embedding layer, i.e., turns positive integers (indexes) into dense vectors of fixed size.\n",
        "        input_dim=len(text_encoder.get_vocabulary()), # Get the size of word vocabulary (positive integers), VOCAB_SIZE.\n",
        "        output_dim=64, # Fixed size of the output embedding vectors which is fed as input of LSTM layer.\n",
        "        mask_zero=True), \n",
        "    tf.keras.layers.LSTM(units=64), # Output dimension of LSTM layer\n",
        "    tf.keras.layers.Dense(64, activation='relu'), # Dense layer\n",
        "    tf.keras.layers.Dense(1, activation='sigmoid') # Classification output\n",
        "])\n",
        "\n",
        "# Summarize the model\n",
        "model.summary()\n",
        "print([layer.supports_masking for layer in model.layers])\n"
      ],
      "metadata": {
        "colab": {
          "base_uri": "https://localhost:8080/"
        },
        "id": "-wzjrUNRPBg6",
        "outputId": "e2bf028e-dfdc-41f6-9ca3-f54449c4c931"
      },
      "execution_count": null,
      "outputs": [
        {
          "output_type": "stream",
          "name": "stdout",
          "text": [
            "Model: \"sequential_11\"\n",
            "_________________________________________________________________\n",
            " Layer (type)                Output Shape              Param #   \n",
            "=================================================================\n",
            " text_vectorization (TextVec  (None, None)             0         \n",
            " torization)                                                     \n",
            "                                                                 \n",
            " embedding_11 (Embedding)    (None, None, 64)          64000     \n",
            "                                                                 \n",
            " lstm_11 (LSTM)              (None, 64)                33024     \n",
            "                                                                 \n",
            " dense_22 (Dense)            (None, 64)                4160      \n",
            "                                                                 \n",
            " dense_23 (Dense)            (None, 1)                 65        \n",
            "                                                                 \n",
            "=================================================================\n",
            "Total params: 101,249\n",
            "Trainable params: 101,249\n",
            "Non-trainable params: 0\n",
            "_________________________________________________________________\n",
            "[False, True, True, True, True]\n"
          ]
        }
      ]
    },
    {
      "cell_type": "code",
      "source": [
        "# Compile the model\n",
        "model.compile(loss='binary_crossentropy', # Binary classification loss\n",
        "              optimizer=tf.keras.optimizers.Adam(1e-3), # Optimizer\n",
        "              metrics=['accuracy']) # Evaluation metric\n",
        "\n",
        "# Train the model\n",
        "history = model.fit(X_train, y_train, epochs=10, batch_size = 2048, validation_data=(X_val, y_val)) # Here the test dataset is used as validtion set"
      ],
      "metadata": {
        "colab": {
          "base_uri": "https://localhost:8080/"
        },
        "id": "CRl9NHjpPGvt",
        "outputId": "348a785d-eb8a-40df-de24-67eb571ca5df"
      },
      "execution_count": null,
      "outputs": [
        {
          "output_type": "stream",
          "name": "stdout",
          "text": [
            "Epoch 1/10\n",
            "10/10 [==============================] - 12s 708ms/step - loss: 0.6910 - accuracy: 0.5644 - val_loss: 0.6846 - val_accuracy: 0.6344\n",
            "Epoch 2/10\n",
            "10/10 [==============================] - 3s 314ms/step - loss: 0.6473 - accuracy: 0.6751 - val_loss: 0.6337 - val_accuracy: 0.6716\n",
            "Epoch 3/10\n",
            "10/10 [==============================] - 5s 485ms/step - loss: 0.5600 - accuracy: 0.7552 - val_loss: 0.5412 - val_accuracy: 0.7402\n",
            "Epoch 4/10\n",
            "10/10 [==============================] - 4s 369ms/step - loss: 0.4938 - accuracy: 0.7882 - val_loss: 0.4666 - val_accuracy: 0.7914\n",
            "Epoch 5/10\n",
            "10/10 [==============================] - 4s 366ms/step - loss: 0.4245 - accuracy: 0.8206 - val_loss: 0.3994 - val_accuracy: 0.8260\n",
            "Epoch 6/10\n",
            "10/10 [==============================] - 3s 304ms/step - loss: 0.3744 - accuracy: 0.8418 - val_loss: 0.3807 - val_accuracy: 0.8330\n",
            "Epoch 7/10\n",
            "10/10 [==============================] - 3s 327ms/step - loss: 0.3552 - accuracy: 0.8503 - val_loss: 0.3628 - val_accuracy: 0.8466\n",
            "Epoch 8/10\n",
            "10/10 [==============================] - 4s 421ms/step - loss: 0.3390 - accuracy: 0.8589 - val_loss: 0.3606 - val_accuracy: 0.8478\n",
            "Epoch 9/10\n",
            "10/10 [==============================] - 3s 320ms/step - loss: 0.3223 - accuracy: 0.8686 - val_loss: 0.3448 - val_accuracy: 0.8554\n",
            "Epoch 10/10\n",
            "10/10 [==============================] - 3s 328ms/step - loss: 0.3136 - accuracy: 0.8748 - val_loss: 0.3439 - val_accuracy: 0.8554\n"
          ]
        }
      ]
    },
    {
      "cell_type": "code",
      "source": [
        "# Visualize the training and validation loss over epochs\n",
        "plt.plot(history.history['loss'])\n",
        "plt.plot(history.history['val_loss'])\n",
        "plt.title('model loss')\n",
        "plt.ylabel('loss')\n",
        "plt.xlabel('epoch')\n",
        "plt.legend(['train', 'val'], loc='upper right')\n",
        "plt.show()"
      ],
      "metadata": {
        "colab": {
          "base_uri": "https://localhost:8080/",
          "height": 472
        },
        "id": "E_FM1d8DPINj",
        "outputId": "3e185369-13b7-4938-a38e-b3bb8e77803a"
      },
      "execution_count": null,
      "outputs": [
        {
          "output_type": "display_data",
          "data": {
            "text/plain": [
              "<Figure size 640x480 with 1 Axes>"
            ],
            "image/png": "[encoded data removed]"
          },
          "metadata": {}
        }
      ]
    },
    {
      "cell_type": "code",
      "source": [
        "# Visualize the training and validation accuracy over epochs\n",
        "plt.plot(history.history['accuracy'])\n",
        "plt.plot(history.history['val_accuracy'])\n",
        "plt.title('model accuracy')\n",
        "plt.ylabel('accuracy')\n",
        "plt.xlabel('epoch')\n",
        "plt.legend(['train', 'val'], loc='upper left')\n",
        "plt.show()"
      ],
      "metadata": {
        "colab": {
          "base_uri": "https://localhost:8080/",
          "height": 472
        },
        "id": "7MLY0SbdPJiA",
        "outputId": "c476bf96-c4e6-43f2-c84e-eb2a7e2088fe"
      },
      "execution_count": null,
      "outputs": [
        {
          "output_type": "display_data",
          "data": {
            "text/plain": [
              "<Figure size 640x480 with 1 Axes>"
            ],
            "image/png": "[encoded data removed]"
          },
          "metadata": {}
        }
      ]
    },
    {
      "cell_type": "code",
      "source": [
        "# Evaluate the model on the test set\n",
        "test_loss, test_acc = model.evaluate(X_test, y_test)\n",
        "print('Test Loss:', test_loss)\n",
        "print('Test Accuracy:', test_acc)"
      ],
      "metadata": {
        "colab": {
          "base_uri": "https://localhost:8080/"
        },
        "id": "zy8dqWnqPKpE",
        "outputId": "ef3c3252-1140-44b8-dd87-84102a643230"
      },
      "execution_count": null,
      "outputs": [
        {
          "output_type": "stream",
          "name": "stdout",
          "text": [
            "782/782 [==============================] - 12s 15ms/step - loss: 0.3374 - accuracy: 0.8560\n",
            "Test Loss: 0.33741241693496704\n",
            "Test Accuracy: 0.8559600114822388\n"
          ]
        }
      ]
    },
    {
      "cell_type": "markdown",
      "source": [
        "# Comparisons between implementations"
      ],
      "metadata": {
        "id": "sALsrwIfRH1B"
      }
    },
    {
      "cell_type": "markdown",
      "source": [
        "Overall, the results are in the attached photo. Despite its high parameter count, the Glove implementation has the best balance between accuracy and training time. \n",
        "\n",
        "![image.png](data:image/png;base64,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)"
      ],
      "metadata": {
        "id": "ul1WkysJHz72"
      }
    },
    {
      "cell_type": "markdown",
      "source": [
        "**Accuracy:**"
      ],
      "metadata": {
        "id": "ombyjyHkRVV6"
      }
    },
    {
      "cell_type": "markdown",
      "source": [
        "The most accurate implementation is Glove, however, it has the most parameters out of all implementations. Both the higher accuracy and the number of parameters of the Glove implementation can be attributed to the use of pretrained Glove word vectors.\n",
        "\n",
        "In order from most accurate to least, the order are: Glove LSTM > Standard LSTM > Bi-LSTM > GRU > Conv1D\n"
      ],
      "metadata": {
        "id": "xzoksnXHEKAf"
      }
    },
    {
      "cell_type": "markdown",
      "source": [
        "**Running Time:**"
      ],
      "metadata": {
        "id": "ALTEiYP3RfBN"
      }
    },
    {
      "cell_type": "markdown",
      "source": [
        "The implementation with Bi-LSTM has the longest training time. I believe that this is because Bi-LSTM has to find relationship between words in two directions instead of 1. \n",
        "\n",
        "In order of faster running time to the slowest, the order are: GRU/Standard LSTM > Conv1D > Glove > Bi-LSTM"
      ],
      "metadata": {
        "id": "oMb7uqF_ZI3a"
      }
    },
    {
      "cell_type": "markdown",
      "source": [
        "**Parameter Number:**"
      ],
      "metadata": {
        "id": "ggo09Q9VRmm8"
      }
    },
    {
      "cell_type": "markdown",
      "source": [
        "The implementation with the most parameters is Glove due to the use of pretrained Glove word vectors. \n",
        "\n",
        "The implementation with the least parameters is GRU. This is likely because GRU's architecture has fewer componenets than LSTM so its parameter count is lower than LSTM."
      ],
      "metadata": {
        "id": "IQgf4cqvZm8s"
      }
    },
    {
      "cell_type": "markdown",
      "source": [
        "**Glove LSTM vs Standard LSTM**"
      ],
      "metadata": {
        "id": "EnfRh2YZeR0V"
      }
    },
    {
      "cell_type": "markdown",
      "source": [
        "Between Glove LSTM and Standard LSTM, Glove LSTM is more accurate; however, it is around three times slower than Standard LSTM. If accuracy is the priority, we should go with Glove LSTM, if running time is the priority, we should go with Standard LSTM "
      ],
      "metadata": {
        "id": "NiKaqM6-eU-u"
      }
    }
  ],
  "metadata": {
    "accelerator": "GPU",
    "colab": {
      "provenance": []
    },
    "kernelspec": {
      "display_name": "Python 3 (ipykernel)",
      "language": "python",
      "name": "python3"
    },
    "language_info": {
      "codemirror_mode": {
        "name": "ipython",
        "version": 3
      },
      "file_extension": ".py",
      "mimetype": "text/x-python",
      "name": "python",
      "nbconvert_exporter": "python",
      "pygments_lexer": "ipython3",
      "version": "3.8.3"
    },
    "gpuClass": "standard",
    "widgets": {
      "application/vnd.jupyter.widget-state+json": {
        "c2ab8b33ccea444e9c5d021b11c70ba6": {
          "model_module": "@jupyter-widgets/controls",
          "model_name": "HBoxModel",
          "model_module_version": "1.5.0",
          "state": {
            "_dom_classes": [],
            "_model_module": "@jupyter-widgets/controls",
            "_model_module_version": "1.5.0",
            "_model_name": "HBoxModel",
            "_view_count": null,
            "_view_module": "@jupyter-widgets/controls",
            "_view_module_version": "1.5.0",
            "_view_name": "HBoxView",
            "box_style": "",
            "children": [
              "IPY_MODEL_aca16682c08e4bedaaa362fb20136e8c",
              "IPY_MODEL_c3fac5b243d34d6997959ac7ad0948d0",
              "IPY_MODEL_a83856b1f3f84fd9a6ede00c6e3cab83"
            ],
            "layout": "IPY_MODEL_83466805f91a4705afafd446292a23a5"
          }
        },
        "aca16682c08e4bedaaa362fb20136e8c": {
          "model_module": "@jupyter-widgets/controls",
          "model_name": "HTMLModel",
          "model_module_version": "1.5.0",
          "state": {
            "_dom_classes": [],
            "_model_module": "@jupyter-widgets/controls",
            "_model_module_version": "1.5.0",
            "_model_name": "HTMLModel",
            "_view_count": null,
            "_view_module": "@jupyter-widgets/controls",
            "_view_module_version": "1.5.0",
            "_view_name": "HTMLView",
            "description": "",
            "description_tooltip": null,
            "layout": "IPY_MODEL_f8001312f98b447b8aacd0adb43199eb",
            "placeholder": "​",
            "style": "IPY_MODEL_7a3300a268d243f5ae217f5b3d256292",
            "value": "Dl Completed...: 100%"
          }
        },
        "c3fac5b243d34d6997959ac7ad0948d0": {
          "model_module": "@jupyter-widgets/controls",
          "model_name": "FloatProgressModel",
          "model_module_version": "1.5.0",
          "state": {
            "_dom_classes": [],
            "_model_module": "@jupyter-widgets/controls",
            "_model_module_version": "1.5.0",
            "_model_name": "FloatProgressModel",
            "_view_count": null,
            "_view_module": "@jupyter-widgets/controls",
            "_view_module_version": "1.5.0",
            "_view_name": "ProgressView",
            "bar_style": "success",
            "description": "",
            "description_tooltip": null,
            "layout": "IPY_MODEL_f61947ffa35846f0ab2720c681658666",
            "max": 1,
            "min": 0,
            "orientation": "horizontal",
            "style": "IPY_MODEL_3391f347e48a4c9fb0dec345a1f86909",
            "value": 1
          }
        },
        "a83856b1f3f84fd9a6ede00c6e3cab83": {
          "model_module": "@jupyter-widgets/controls",
          "model_name": "HTMLModel",
          "model_module_version": "1.5.0",
          "state": {
            "_dom_classes": [],
            "_model_module": "@jupyter-widgets/controls",
            "_model_module_version": "1.5.0",
            "_model_name": "HTMLModel",
            "_view_count": null,
            "_view_module": "@jupyter-widgets/controls",
            "_view_module_version": "1.5.0",
            "_view_name": "HTMLView",
            "description": "",
            "description_tooltip": null,
            "layout": "IPY_MODEL_59c470795d2c4eab8b362509e5b85105",
            "placeholder": "​",
            "style": "IPY_MODEL_8868a2e3261747d49272f927247a24a6",
            "value": " 1/1 [00:10&lt;00:00, 10.16s/ url]"
          }
        },
        "83466805f91a4705afafd446292a23a5": {
          "model_module": "@jupyter-widgets/base",
          "model_name": "LayoutModel",
          "model_module_version": "1.2.0",
          "state": {
            "_model_module": "@jupyter-widgets/base",
            "_model_module_version": "1.2.0",
            "_model_name": "LayoutModel",
            "_view_count": null,
            "_view_module": "@jupyter-widgets/base",
            "_view_module_version": "1.2.0",
            "_view_name": "LayoutView",
            "align_content": null,
            "align_items": null,
            "align_self": null,
            "border": null,
            "bottom": null,
            "display": null,
            "flex": null,
            "flex_flow": null,
            "grid_area": null,
            "grid_auto_columns": null,
            "grid_auto_flow": null,
            "grid_auto_rows": null,
            "grid_column": null,
            "grid_gap": null,
            "grid_row": null,
            "grid_template_areas": null,
            "grid_template_columns": null,
            "grid_template_rows": null,
            "height": null,
            "justify_content": null,
            "justify_items": null,
            "left": null,
            "margin": null,
            "max_height": null,
            "max_width": null,
            "min_height": null,
            "min_width": null,
            "object_fit": null,
            "object_position": null,
            "order": null,
            "overflow": null,
            "overflow_x": null,
            "overflow_y": null,
            "padding": null,
            "right": null,
            "top": null,
            "visibility": null,
            "width": null
          }
        },
        "f8001312f98b447b8aacd0adb43199eb": {
          "model_module": "@jupyter-widgets/base",
          "model_name": "LayoutModel",
          "model_module_version": "1.2.0",
          "state": {
            "_model_module": "@jupyter-widgets/base",
            "_model_module_version": "1.2.0",
            "_model_name": "LayoutModel",
            "_view_count": null,
            "_view_module": "@jupyter-widgets/base",
            "_view_module_version": "1.2.0",
            "_view_name": "LayoutView",
            "align_content": null,
            "align_items": null,
            "align_self": null,
            "border": null,
            "bottom": null,
            "display": null,
            "flex": null,
            "flex_flow": null,
            "grid_area": null,
            "grid_auto_columns": null,
            "grid_auto_flow": null,
            "grid_auto_rows": null,
            "grid_column": null,
            "grid_gap": null,
            "grid_row": null,
            "grid_template_areas": null,
            "grid_template_columns": null,
            "grid_template_rows": null,
            "height": null,
            "justify_content": null,
            "justify_items": null,
            "left": null,
            "margin": null,
            "max_height": null,
            "max_width": null,
            "min_height": null,
            "min_width": null,
            "object_fit": null,
            "object_position": null,
            "order": null,
            "overflow": null,
            "overflow_x": null,
            "overflow_y": null,
            "padding": null,
            "right": null,
            "top": null,
            "visibility": null,
            "width": null
          }
        },
        "7a3300a268d243f5ae217f5b3d256292": {
          "model_module": "@jupyter-widgets/controls",
          "model_name": "DescriptionStyleModel",
          "model_module_version": "1.5.0",
          "state": {
            "_model_module": "@jupyter-widgets/controls",
            "_model_module_version": "1.5.0",
            "_model_name": "DescriptionStyleModel",
            "_view_count": null,
            "_view_module": "@jupyter-widgets/base",
            "_view_module_version": "1.2.0",
            "_view_name": "StyleView",
            "description_width": ""
          }
        },
        "f61947ffa35846f0ab2720c681658666": {
          "model_module": "@jupyter-widgets/base",
          "model_name": "LayoutModel",
          "model_module_version": "1.2.0",
          "state": {
            "_model_module": "@jupyter-widgets/base",
            "_model_module_version": "1.2.0",
            "_model_name": "LayoutModel",
            "_view_count": null,
            "_view_module": "@jupyter-widgets/base",
            "_view_module_version": "1.2.0",
            "_view_name": "LayoutView",
            "align_content": null,
            "align_items": null,
            "align_self": null,
            "border": null,
            "bottom": null,
            "display": null,
            "flex": null,
            "flex_flow": null,
            "grid_area": null,
            "grid_auto_columns": null,
            "grid_auto_flow": null,
            "grid_auto_rows": null,
            "grid_column": null,
            "grid_gap": null,
            "grid_row": null,
            "grid_template_areas": null,
            "grid_template_columns": null,
            "grid_template_rows": null,
            "height": null,
            "justify_content": null,
            "justify_items": null,
            "left": null,
            "margin": null,
            "max_height": null,
            "max_width": null,
            "min_height": null,
            "min_width": null,
            "object_fit": null,
            "object_position": null,
            "order": null,
            "overflow": null,
            "overflow_x": null,
            "overflow_y": null,
            "padding": null,
            "right": null,
            "top": null,
            "visibility": null,
            "width": "20px"
          }
        },
        "3391f347e48a4c9fb0dec345a1f86909": {
          "model_module": "@jupyter-widgets/controls",
          "model_name": "ProgressStyleModel",
          "model_module_version": "1.5.0",
          "state": {
            "_model_module": "@jupyter-widgets/controls",
            "_model_module_version": "1.5.0",
            "_model_name": "ProgressStyleModel",
            "_view_count": null,
            "_view_module": "@jupyter-widgets/base",
            "_view_module_version": "1.2.0",
            "_view_name": "StyleView",
            "bar_color": null,
            "description_width": ""
          }
        },
        "59c470795d2c4eab8b362509e5b85105": {
          "model_module": "@jupyter-widgets/base",
          "model_name": "LayoutModel",
          "model_module_version": "1.2.0",
          "state": {
            "_model_module": "@jupyter-widgets/base",
            "_model_module_version": "1.2.0",
            "_model_name": "LayoutModel",
            "_view_count": null,
            "_view_module": "@jupyter-widgets/base",
            "_view_module_version": "1.2.0",
            "_view_name": "LayoutView",
            "align_content": null,
            "align_items": null,
            "align_self": null,
            "border": null,
            "bottom": null,
            "display": null,
            "flex": null,
            "flex_flow": null,
            "grid_area": null,
            "grid_auto_columns": null,
            "grid_auto_flow": null,
            "grid_auto_rows": null,
            "grid_column": null,
            "grid_gap": null,
            "grid_row": null,
            "grid_template_areas": null,
            "grid_template_columns": null,
            "grid_template_rows": null,
            "height": null,
            "justify_content": null,
            "justify_items": null,
            "left": null,
            "margin": null,
            "max_height": null,
            "max_width": null,
            "min_height": null,
            "min_width": null,
            "object_fit": null,
            "object_position": null,
            "order": null,
            "overflow": null,
            "overflow_x": null,
            "overflow_y": null,
            "padding": null,
            "right": null,
            "top": null,
            "visibility": null,
            "width": null
          }
        },
        "8868a2e3261747d49272f927247a24a6": {
          "model_module": "@jupyter-widgets/controls",
          "model_name": "DescriptionStyleModel",
          "model_module_version": "1.5.0",
          "state": {
            "_model_module": "@jupyter-widgets/controls",
            "_model_module_version": "1.5.0",
            "_model_name": "DescriptionStyleModel",
            "_view_count": null,
            "_view_module": "@jupyter-widgets/base",
            "_view_module_version": "1.2.0",
            "_view_name": "StyleView",
            "description_width": ""
          }
        },
        "d2c86fc7f6344c43a1e15e9b6b5ed1fb": {
          "model_module": "@jupyter-widgets/controls",
          "model_name": "HBoxModel",
          "model_module_version": "1.5.0",
          "state": {
            "_dom_classes": [],
            "_model_module": "@jupyter-widgets/controls",
            "_model_module_version": "1.5.0",
            "_model_name": "HBoxModel",
            "_view_count": null,
            "_view_module": "@jupyter-widgets/controls",
            "_view_module_version": "1.5.0",
            "_view_name": "HBoxView",
            "box_style": "",
            "children": [
              "IPY_MODEL_b6556da6fc964a5fa70390794f345c4f",
              "IPY_MODEL_b9b0528ae13a4e038eff8ca834315c0f",
              "IPY_MODEL_45dc59ef60d041ac9b27999bbeafe1f8"
            ],
            "layout": "IPY_MODEL_2b49e52d0b7c40259ef150d969c2accb"
          }
        },
        "b6556da6fc964a5fa70390794f345c4f": {
          "model_module": "@jupyter-widgets/controls",
          "model_name": "HTMLModel",
          "model_module_version": "1.5.0",
          "state": {
            "_dom_classes": [],
            "_model_module": "@jupyter-widgets/controls",
            "_model_module_version": "1.5.0",
            "_model_name": "HTMLModel",
            "_view_count": null,
            "_view_module": "@jupyter-widgets/controls",
            "_view_module_version": "1.5.0",
            "_view_name": "HTMLView",
            "description": "",
            "description_tooltip": null,
            "layout": "IPY_MODEL_4ac18909cb1a47758085814b3e1483b0",
            "placeholder": "​",
            "style": "IPY_MODEL_2c64731756ff4cb083ed623579cc17c3",
            "value": "Dl Size...: 100%"
          }
        },
        "b9b0528ae13a4e038eff8ca834315c0f": {
          "model_module": "@jupyter-widgets/controls",
          "model_name": "FloatProgressModel",
          "model_module_version": "1.5.0",
          "state": {
            "_dom_classes": [],
            "_model_module": "@jupyter-widgets/controls",
            "_model_module_version": "1.5.0",
            "_model_name": "FloatProgressModel",
            "_view_count": null,
            "_view_module": "@jupyter-widgets/controls",
            "_view_module_version": "1.5.0",
            "_view_name": "ProgressView",
            "bar_style": "success",
            "description": "",
            "description_tooltip": null,
            "layout": "IPY_MODEL_80f24127f7634f83811e3bf18a701298",
            "max": 1,
            "min": 0,
            "orientation": "horizontal",
            "style": "IPY_MODEL_85324ce1fdbd4ece9df74b148083ada1",
            "value": 1
          }
        },
        "45dc59ef60d041ac9b27999bbeafe1f8": {
          "model_module": "@jupyter-widgets/controls",
          "model_name": "HTMLModel",
          "model_module_version": "1.5.0",
          "state": {
            "_dom_classes": [],
            "_model_module": "@jupyter-widgets/controls",
            "_model_module_version": "1.5.0",
            "_model_name": "HTMLModel",
            "_view_count": null,
            "_view_module": "@jupyter-widgets/controls",
            "_view_module_version": "1.5.0",
            "_view_name": "HTMLView",
            "description": "",
            "description_tooltip": null,
            "layout": "IPY_MODEL_fa5720332b2d46dd8868c240cc59d0a4",
            "placeholder": "​",
            "style": "IPY_MODEL_c4e7205dd5704b03b79cf695e63525da",
            "value": " 80/80 [00:10&lt;00:00, 14.76 MiB/s]"
          }
        },
        "2b49e52d0b7c40259ef150d969c2accb": {
          "model_module": "@jupyter-widgets/base",
          "model_name": "LayoutModel",
          "model_module_version": "1.2.0",
          "state": {
            "_model_module": "@jupyter-widgets/base",
            "_model_module_version": "1.2.0",
            "_model_name": "LayoutModel",
            "_view_count": null,
            "_view_module": "@jupyter-widgets/base",
            "_view_module_version": "1.2.0",
            "_view_name": "LayoutView",
            "align_content": null,
            "align_items": null,
            "align_self": null,
            "border": null,
            "bottom": null,
            "display": null,
            "flex": null,
            "flex_flow": null,
            "grid_area": null,
            "grid_auto_columns": null,
            "grid_auto_flow": null,
            "grid_auto_rows": null,
            "grid_column": null,
            "grid_gap": null,
            "grid_row": null,
            "grid_template_areas": null,
            "grid_template_columns": null,
            "grid_template_rows": null,
            "height": null,
            "justify_content": null,
            "justify_items": null,
            "left": null,
            "margin": null,
            "max_height": null,
            "max_width": null,
            "min_height": null,
            "min_width": null,
            "object_fit": null,
            "object_position": null,
            "order": null,
            "overflow": null,
            "overflow_x": null,
            "overflow_y": null,
            "padding": null,
            "right": null,
            "top": null,
            "visibility": null,
            "width": null
          }
        },
        "4ac18909cb1a47758085814b3e1483b0": {
          "model_module": "@jupyter-widgets/base",
          "model_name": "LayoutModel",
          "model_module_version": "1.2.0",
          "state": {
            "_model_module": "@jupyter-widgets/base",
            "_model_module_version": "1.2.0",
            "_model_name": "LayoutModel",
            "_view_count": null,
            "_view_module": "@jupyter-widgets/base",
            "_view_module_version": "1.2.0",
            "_view_name": "LayoutView",
            "align_content": null,
            "align_items": null,
            "align_self": null,
            "border": null,
            "bottom": null,
            "display": null,
            "flex": null,
            "flex_flow": null,
            "grid_area": null,
            "grid_auto_columns": null,
            "grid_auto_flow": null,
            "grid_auto_rows": null,
            "grid_column": null,
            "grid_gap": null,
            "grid_row": null,
            "grid_template_areas": null,
            "grid_template_columns": null,
            "grid_template_rows": null,
            "height": null,
            "justify_content": null,
            "justify_items": null,
            "left": null,
            "margin": null,
            "max_height": null,
            "max_width": null,
            "min_height": null,
            "min_width": null,
            "object_fit": null,
            "object_position": null,
            "order": null,
            "overflow": null,
            "overflow_x": null,
            "overflow_y": null,
            "padding": null,
            "right": null,
            "top": null,
            "visibility": null,
            "width": null
          }
        },
        "2c64731756ff4cb083ed623579cc17c3": {
          "model_module": "@jupyter-widgets/controls",
          "model_name": "DescriptionStyleModel",
          "model_module_version": "1.5.0",
          "state": {
            "_model_module": "@jupyter-widgets/controls",
            "_model_module_version": "1.5.0",
            "_model_name": "DescriptionStyleModel",
            "_view_count": null,
            "_view_module": "@jupyter-widgets/base",
            "_view_module_version": "1.2.0",
            "_view_name": "StyleView",
            "description_width": ""
          }
        },
        "80f24127f7634f83811e3bf18a701298": {
          "model_module": "@jupyter-widgets/base",
          "model_name": "LayoutModel",
          "model_module_version": "1.2.0",
          "state": {
            "_model_module": "@jupyter-widgets/base",
            "_model_module_version": "1.2.0",
            "_model_name": "LayoutModel",
            "_view_count": null,
            "_view_module": "@jupyter-widgets/base",
            "_view_module_version": "1.2.0",
            "_view_name": "LayoutView",
            "align_content": null,
            "align_items": null,
            "align_self": null,
            "border": null,
            "bottom": null,
            "display": null,
            "flex": null,
            "flex_flow": null,
            "grid_area": null,
            "grid_auto_columns": null,
            "grid_auto_flow": null,
            "grid_auto_rows": null,
            "grid_column": null,
            "grid_gap": null,
            "grid_row": null,
            "grid_template_areas": null,
            "grid_template_columns": null,
            "grid_template_rows": null,
            "height": null,
            "justify_content": null,
            "justify_items": null,
            "left": null,
            "margin": null,
            "max_height": null,
            "max_width": null,
            "min_height": null,
            "min_width": null,
            "object_fit": null,
            "object_position": null,
            "order": null,
            "overflow": null,
            "overflow_x": null,
            "overflow_y": null,
            "padding": null,
            "right": null,
            "top": null,
            "visibility": null,
            "width": "20px"
          }
        },
        "85324ce1fdbd4ece9df74b148083ada1": {
          "model_module": "@jupyter-widgets/controls",
          "model_name": "ProgressStyleModel",
          "model_module_version": "1.5.0",
          "state": {
            "_model_module": "@jupyter-widgets/controls",
            "_model_module_version": "1.5.0",
            "_model_name": "ProgressStyleModel",
            "_view_count": null,
            "_view_module": "@jupyter-widgets/base",
            "_view_module_version": "1.2.0",
            "_view_name": "StyleView",
            "bar_color": null,
            "description_width": ""
          }
        },
        "fa5720332b2d46dd8868c240cc59d0a4": {
          "model_module": "@jupyter-widgets/base",
          "model_name": "LayoutModel",
          "model_module_version": "1.2.0",
          "state": {
            "_model_module": "@jupyter-widgets/base",
            "_model_module_version": "1.2.0",
            "_model_name": "LayoutModel",
            "_view_count": null,
            "_view_module": "@jupyter-widgets/base",
            "_view_module_version": "1.2.0",
            "_view_name": "LayoutView",
            "align_content": null,
            "align_items": null,
            "align_self": null,
            "border": null,
            "bottom": null,
            "display": null,
            "flex": null,
            "flex_flow": null,
            "grid_area": null,
            "grid_auto_columns": null,
            "grid_auto_flow": null,
            "grid_auto_rows": null,
            "grid_column": null,
            "grid_gap": null,
            "grid_row": null,
            "grid_template_areas": null,
            "grid_template_columns": null,
            "grid_template_rows": null,
            "height": null,
            "justify_content": null,
            "justify_items": null,
            "left": null,
            "margin": null,
            "max_height": null,
            "max_width": null,
            "min_height": null,
            "min_width": null,
            "object_fit": null,
            "object_position": null,
            "order": null,
            "overflow": null,
            "overflow_x": null,
            "overflow_y": null,
            "padding": null,
            "right": null,
            "top": null,
            "visibility": null,
            "width": null
          }
        },
        "c4e7205dd5704b03b79cf695e63525da": {
          "model_module": "@jupyter-widgets/controls",
          "model_name": "DescriptionStyleModel",
          "model_module_version": "1.5.0",
          "state": {
            "_model_module": "@jupyter-widgets/controls",
            "_model_module_version": "1.5.0",
            "_model_name": "DescriptionStyleModel",
            "_view_count": null,
            "_view_module": "@jupyter-widgets/base",
            "_view_module_version": "1.2.0",
            "_view_name": "StyleView",
            "description_width": ""
          }
        },
        "f711054374d34923899b81d9217423dc": {
          "model_module": "@jupyter-widgets/controls",
          "model_name": "HBoxModel",
          "model_module_version": "1.5.0",
          "state": {
            "_dom_classes": [],
            "_model_module": "@jupyter-widgets/controls",
            "_model_module_version": "1.5.0",
            "_model_name": "HBoxModel",
            "_view_count": null,
            "_view_module": "@jupyter-widgets/controls",
            "_view_module_version": "1.5.0",
            "_view_name": "HBoxView",
            "box_style": "",
            "children": [
              "IPY_MODEL_d54034b8455c46428fcd95c0ee6b5814",
              "IPY_MODEL_fbf3aa4b76574a54ab485da48efc52c2",
              "IPY_MODEL_648c2acad86d42a68bcd6484ff019a4a"
            ],
            "layout": "IPY_MODEL_8bcf2da8d4004fb98811b9e3f387b733"
          }
        },
        "d54034b8455c46428fcd95c0ee6b5814": {
          "model_module": "@jupyter-widgets/controls",
          "model_name": "HTMLModel",
          "model_module_version": "1.5.0",
          "state": {
            "_dom_classes": [],
            "_model_module": "@jupyter-widgets/controls",
            "_model_module_version": "1.5.0",
            "_model_name": "HTMLModel",
            "_view_count": null,
            "_view_module": "@jupyter-widgets/controls",
            "_view_module_version": "1.5.0",
            "_view_name": "HTMLView",
            "description": "",
            "description_tooltip": null,
            "layout": "IPY_MODEL_21fdf8be1a3f44f4ad4dcdd2f1e4b755",
            "placeholder": "​",
            "style": "IPY_MODEL_c851965e36f44320935acacc738fd6eb",
            "value": "Generating splits...: 100%"
          }
        },
        "fbf3aa4b76574a54ab485da48efc52c2": {
          "model_module": "@jupyter-widgets/controls",
          "model_name": "FloatProgressModel",
          "model_module_version": "1.5.0",
          "state": {
            "_dom_classes": [],
            "_model_module": "@jupyter-widgets/controls",
            "_model_module_version": "1.5.0",
            "_model_name": "FloatProgressModel",
            "_view_count": null,
            "_view_module": "@jupyter-widgets/controls",
            "_view_module_version": "1.5.0",
            "_view_name": "ProgressView",
            "bar_style": "",
            "description": "",
            "description_tooltip": null,
            "layout": "IPY_MODEL_0c7709abe57d471d8b33e283615c3283",
            "max": 3,
            "min": 0,
            "orientation": "horizontal",
            "style": "IPY_MODEL_bae6a89dfda64357baae10b788933218",
            "value": 3
          }
        },
        "648c2acad86d42a68bcd6484ff019a4a": {
          "model_module": "@jupyter-widgets/controls",
          "model_name": "HTMLModel",
          "model_module_version": "1.5.0",
          "state": {
            "_dom_classes": [],
            "_model_module": "@jupyter-widgets/controls",
            "_model_module_version": "1.5.0",
            "_model_name": "HTMLModel",
            "_view_count": null,
            "_view_module": "@jupyter-widgets/controls",
            "_view_module_version": "1.5.0",
            "_view_name": "HTMLView",
            "description": "",
            "description_tooltip": null,
            "layout": "IPY_MODEL_794116180dd44a42975d81cc6295a1e5",
            "placeholder": "​",
            "style": "IPY_MODEL_98ed38cc2c8847108a0df791581da74d",
            "value": " 3/3 [00:56&lt;00:00, 17.27s/ splits]"
          }
        },
        "8bcf2da8d4004fb98811b9e3f387b733": {
          "model_module": "@jupyter-widgets/base",
          "model_name": "LayoutModel",
          "model_module_version": "1.2.0",
          "state": {
            "_model_module": "@jupyter-widgets/base",
            "_model_module_version": "1.2.0",
            "_model_name": "LayoutModel",
            "_view_count": null,
            "_view_module": "@jupyter-widgets/base",
            "_view_module_version": "1.2.0",
            "_view_name": "LayoutView",
            "align_content": null,
            "align_items": null,
            "align_self": null,
            "border": null,
            "bottom": null,
            "display": null,
            "flex": null,
            "flex_flow": null,
            "grid_area": null,
            "grid_auto_columns": null,
            "grid_auto_flow": null,
            "grid_auto_rows": null,
            "grid_column": null,
            "grid_gap": null,
            "grid_row": null,
            "grid_template_areas": null,
            "grid_template_columns": null,
            "grid_template_rows": null,
            "height": null,
            "justify_content": null,
            "justify_items": null,
            "left": null,
            "margin": null,
            "max_height": null,
            "max_width": null,
            "min_height": null,
            "min_width": null,
            "object_fit": null,
            "object_position": null,
            "order": null,
            "overflow": null,
            "overflow_x": null,
            "overflow_y": null,
            "padding": null,
            "right": null,
            "top": null,
            "visibility": "hidden",
            "width": null
          }
        },
        "21fdf8be1a3f44f4ad4dcdd2f1e4b755": {
          "model_module": "@jupyter-widgets/base",
          "model_name": "LayoutModel",
          "model_module_version": "1.2.0",
          "state": {
            "_model_module": "@jupyter-widgets/base",
            "_model_module_version": "1.2.0",
            "_model_name": "LayoutModel",
            "_view_count": null,
            "_view_module": "@jupyter-widgets/base",
            "_view_module_version": "1.2.0",
            "_view_name": "LayoutView",
            "align_content": null,
            "align_items": null,
            "align_self": null,
            "border": null,
            "bottom": null,
            "display": null,
            "flex": null,
            "flex_flow": null,
            "grid_area": null,
            "grid_auto_columns": null,
            "grid_auto_flow": null,
            "grid_auto_rows": null,
            "grid_column": null,
            "grid_gap": null,
            "grid_row": null,
            "grid_template_areas": null,
            "grid_template_columns": null,
            "grid_template_rows": null,
            "height": null,
            "justify_content": null,
            "justify_items": null,
            "left": null,
            "margin": null,
            "max_height": null,
            "max_width": null,
            "min_height": null,
            "min_width": null,
            "object_fit": null,
            "object_position": null,
            "order": null,
            "overflow": null,
            "overflow_x": null,
            "overflow_y": null,
            "padding": null,
            "right": null,
            "top": null,
            "visibility": null,
            "width": null
          }
        },
        "c851965e36f44320935acacc738fd6eb": {
          "model_module": "@jupyter-widgets/controls",
          "model_name": "DescriptionStyleModel",
          "model_module_version": "1.5.0",
          "state": {
            "_model_module": "@jupyter-widgets/controls",
            "_model_module_version": "1.5.0",
            "_model_name": "DescriptionStyleModel",
            "_view_count": null,
            "_view_module": "@jupyter-widgets/base",
            "_view_module_version": "1.2.0",
            "_view_name": "StyleView",
            "description_width": ""
          }
        },
        "0c7709abe57d471d8b33e283615c3283": {
          "model_module": "@jupyter-widgets/base",
          "model_name": "LayoutModel",
          "model_module_version": "1.2.0",
          "state": {
            "_model_module": "@jupyter-widgets/base",
            "_model_module_version": "1.2.0",
            "_model_name": "LayoutModel",
            "_view_count": null,
            "_view_module": "@jupyter-widgets/base",
            "_view_module_version": "1.2.0",
            "_view_name": "LayoutView",
            "align_content": null,
            "align_items": null,
            "align_self": null,
            "border": null,
            "bottom": null,
            "display": null,
            "flex": null,
            "flex_flow": null,
            "grid_area": null,
            "grid_auto_columns": null,
            "grid_auto_flow": null,
            "grid_auto_rows": null,
            "grid_column": null,
            "grid_gap": null,
            "grid_row": null,
            "grid_template_areas": null,
            "grid_template_columns": null,
            "grid_template_rows": null,
            "height": null,
            "justify_content": null,
            "justify_items": null,
            "left": null,
            "margin": null,
            "max_height": null,
            "max_width": null,
            "min_height": null,
            "min_width": null,
            "object_fit": null,
            "object_position": null,
            "order": null,
            "overflow": null,
            "overflow_x": null,
            "overflow_y": null,
            "padding": null,
            "right": null,
            "top": null,
            "visibility": null,
            "width": null
          }
        },
        "bae6a89dfda64357baae10b788933218": {
          "model_module": "@jupyter-widgets/controls",
          "model_name": "ProgressStyleModel",
          "model_module_version": "1.5.0",
          "state": {
            "_model_module": "@jupyter-widgets/controls",
            "_model_module_version": "1.5.0",
            "_model_name": "ProgressStyleModel",
            "_view_count": null,
            "_view_module": "@jupyter-widgets/base",
            "_view_module_version": "1.2.0",
            "_view_name": "StyleView",
            "bar_color": null,
            "description_width": ""
          }
        },
        "794116180dd44a42975d81cc6295a1e5": {
          "model_module": "@jupyter-widgets/base",
          "model_name": "LayoutModel",
          "model_module_version": "1.2.0",
          "state": {
            "_model_module": "@jupyter-widgets/base",
            "_model_module_version": "1.2.0",
            "_model_name": "LayoutModel",
            "_view_count": null,
            "_view_module": "@jupyter-widgets/base",
            "_view_module_version": "1.2.0",
            "_view_name": "LayoutView",
            "align_content": null,
            "align_items": null,
            "align_self": null,
            "border": null,
            "bottom": null,
            "display": null,
            "flex": null,
            "flex_flow": null,
            "grid_area": null,
            "grid_auto_columns": null,
            "grid_auto_flow": null,
            "grid_auto_rows": null,
            "grid_column": null,
            "grid_gap": null,
            "grid_row": null,
            "grid_template_areas": null,
            "grid_template_columns": null,
            "grid_template_rows": null,
            "height": null,
            "justify_content": null,
            "justify_items": null,
            "left": null,
            "margin": null,
            "max_height": null,
            "max_width": null,
            "min_height": null,
            "min_width": null,
            "object_fit": null,
            "object_position": null,
            "order": null,
            "overflow": null,
            "overflow_x": null,
            "overflow_y": null,
            "padding": null,
            "right": null,
            "top": null,
            "visibility": null,
            "width": null
          }
        },
        "98ed38cc2c8847108a0df791581da74d": {
          "model_module": "@jupyter-widgets/controls",
          "model_name": "DescriptionStyleModel",
          "model_module_version": "1.5.0",
          "state": {
            "_model_module": "@jupyter-widgets/controls",
            "_model_module_version": "1.5.0",
            "_model_name": "DescriptionStyleModel",
            "_view_count": null,
            "_view_module": "@jupyter-widgets/base",
            "_view_module_version": "1.2.0",
            "_view_name": "StyleView",
            "description_width": ""
          }
        },
        "9fb8275975464fb493a0d9d60fb461f4": {
          "model_module": "@jupyter-widgets/controls",
          "model_name": "HBoxModel",
          "model_module_version": "1.5.0",
          "state": {
            "_dom_classes": [],
            "_model_module": "@jupyter-widgets/controls",
            "_model_module_version": "1.5.0",
            "_model_name": "HBoxModel",
            "_view_count": null,
            "_view_module": "@jupyter-widgets/controls",
            "_view_module_version": "1.5.0",
            "_view_name": "HBoxView",
            "box_style": "",
            "children": [
              "IPY_MODEL_0738992a92ae4ae39357f085e812165b",
              "IPY_MODEL_1d3e392f9d954250b3ba32a4c3bbd53e",
              "IPY_MODEL_9339ac745a8d400aa1e05c1eaabc4b56"
            ],
            "layout": "IPY_MODEL_2086900919dd40a899c4ffcd07f65c13"
          }
        },
        "0738992a92ae4ae39357f085e812165b": {
          "model_module": "@jupyter-widgets/controls",
          "model_name": "HTMLModel",
          "model_module_version": "1.5.0",
          "state": {
            "_dom_classes": [],
            "_model_module": "@jupyter-widgets/controls",
            "_model_module_version": "1.5.0",
            "_model_name": "HTMLModel",
            "_view_count": null,
            "_view_module": "@jupyter-widgets/controls",
            "_view_module_version": "1.5.0",
            "_view_name": "HTMLView",
            "description": "",
            "description_tooltip": null,
            "layout": "IPY_MODEL_39d0c338530c4ec38f57deb2b41d3f5f",
            "placeholder": "​",
            "style": "IPY_MODEL_ca7f8a231e6d4bfb866162fc77b71d3f",
            "value": "Generating train examples...: "
          }
        },
        "1d3e392f9d954250b3ba32a4c3bbd53e": {
          "model_module": "@jupyter-widgets/controls",
          "model_name": "FloatProgressModel",
          "model_module_version": "1.5.0",
          "state": {
            "_dom_classes": [],
            "_model_module": "@jupyter-widgets/controls",
            "_model_module_version": "1.5.0",
            "_model_name": "FloatProgressModel",
            "_view_count": null,
            "_view_module": "@jupyter-widgets/controls",
            "_view_module_version": "1.5.0",
            "_view_name": "ProgressView",
            "bar_style": "info",
            "description": "",
            "description_tooltip": null,
            "layout": "IPY_MODEL_d33fdd02977d46b388e7f8833a1da69c",
            "max": 1,
            "min": 0,
            "orientation": "horizontal",
            "style": "IPY_MODEL_26f56b4ecaa04b4f869afa924f0eadf3",
            "value": 1
          }
        },
        "9339ac745a8d400aa1e05c1eaabc4b56": {
          "model_module": "@jupyter-widgets/controls",
          "model_name": "HTMLModel",
          "model_module_version": "1.5.0",
          "state": {
            "_dom_classes": [],
            "_model_module": "@jupyter-widgets/controls",
            "_model_module_version": "1.5.0",
            "_model_name": "HTMLModel",
            "_view_count": null,
            "_view_module": "@jupyter-widgets/controls",
            "_view_module_version": "1.5.0",
            "_view_name": "HTMLView",
            "description": "",
            "description_tooltip": null,
            "layout": "IPY_MODEL_9a4cc8799223455ebb7521ad5543b041",
            "placeholder": "​",
            "style": "IPY_MODEL_40509419f7eb49c1bc130d5d6c525864",
            "value": " 24866/? [00:12&lt;00:00, 1812.80 examples/s]"
          }
        },
        "2086900919dd40a899c4ffcd07f65c13": {
          "model_module": "@jupyter-widgets/base",
          "model_name": "LayoutModel",
          "model_module_version": "1.2.0",
          "state": {
            "_model_module": "@jupyter-widgets/base",
            "_model_module_version": "1.2.0",
            "_model_name": "LayoutModel",
            "_view_count": null,
            "_view_module": "@jupyter-widgets/base",
            "_view_module_version": "1.2.0",
            "_view_name": "LayoutView",
            "align_content": null,
            "align_items": null,
            "align_self": null,
            "border": null,
            "bottom": null,
            "display": null,
            "flex": null,
            "flex_flow": null,
            "grid_area": null,
            "grid_auto_columns": null,
            "grid_auto_flow": null,
            "grid_auto_rows": null,
            "grid_column": null,
            "grid_gap": null,
            "grid_row": null,
            "grid_template_areas": null,
            "grid_template_columns": null,
            "grid_template_rows": null,
            "height": null,
            "justify_content": null,
            "justify_items": null,
            "left": null,
            "margin": null,
            "max_height": null,
            "max_width": null,
            "min_height": null,
            "min_width": null,
            "object_fit": null,
            "object_position": null,
            "order": null,
            "overflow": null,
            "overflow_x": null,
            "overflow_y": null,
            "padding": null,
            "right": null,
            "top": null,
            "visibility": "hidden",
            "width": null
          }
        },
        "39d0c338530c4ec38f57deb2b41d3f5f": {
          "model_module": "@jupyter-widgets/base",
          "model_name": "LayoutModel",
          "model_module_version": "1.2.0",
          "state": {
            "_model_module": "@jupyter-widgets/base",
            "_model_module_version": "1.2.0",
            "_model_name": "LayoutModel",
            "_view_count": null,
            "_view_module": "@jupyter-widgets/base",
            "_view_module_version": "1.2.0",
            "_view_name": "LayoutView",
            "align_content": null,
            "align_items": null,
            "align_self": null,
            "border": null,
            "bottom": null,
            "display": null,
            "flex": null,
            "flex_flow": null,
            "grid_area": null,
            "grid_auto_columns": null,
            "grid_auto_flow": null,
            "grid_auto_rows": null,
            "grid_column": null,
            "grid_gap": null,
            "grid_row": null,
            "grid_template_areas": null,
            "grid_template_columns": null,
            "grid_template_rows": null,
            "height": null,
            "justify_content": null,
            "justify_items": null,
            "left": null,
            "margin": null,
            "max_height": null,
            "max_width": null,
            "min_height": null,
            "min_width": null,
            "object_fit": null,
            "object_position": null,
            "order": null,
            "overflow": null,
            "overflow_x": null,
            "overflow_y": null,
            "padding": null,
            "right": null,
            "top": null,
            "visibility": null,
            "width": null
          }
        },
        "ca7f8a231e6d4bfb866162fc77b71d3f": {
          "model_module": "@jupyter-widgets/controls",
          "model_name": "DescriptionStyleModel",
          "model_module_version": "1.5.0",
          "state": {
            "_model_module": "@jupyter-widgets/controls",
            "_model_module_version": "1.5.0",
            "_model_name": "DescriptionStyleModel",
            "_view_count": null,
            "_view_module": "@jupyter-widgets/base",
            "_view_module_version": "1.2.0",
            "_view_name": "StyleView",
            "description_width": ""
          }
        },
        "d33fdd02977d46b388e7f8833a1da69c": {
          "model_module": "@jupyter-widgets/base",
          "model_name": "LayoutModel",
          "model_module_version": "1.2.0",
          "state": {
            "_model_module": "@jupyter-widgets/base",
            "_model_module_version": "1.2.0",
            "_model_name": "LayoutModel",
            "_view_count": null,
            "_view_module": "@jupyter-widgets/base",
            "_view_module_version": "1.2.0",
            "_view_name": "LayoutView",
            "align_content": null,
            "align_items": null,
            "align_self": null,
            "border": null,
            "bottom": null,
            "display": null,
            "flex": null,
            "flex_flow": null,
            "grid_area": null,
            "grid_auto_columns": null,
            "grid_auto_flow": null,
            "grid_auto_rows": null,
            "grid_column": null,
            "grid_gap": null,
            "grid_row": null,
            "grid_template_areas": null,
            "grid_template_columns": null,
            "grid_template_rows": null,
            "height": null,
            "justify_content": null,
            "justify_items": null,
            "left": null,
            "margin": null,
            "max_height": null,
            "max_width": null,
            "min_height": null,
            "min_width": null,
            "object_fit": null,
            "object_position": null,
            "order": null,
            "overflow": null,
            "overflow_x": null,
            "overflow_y": null,
            "padding": null,
            "right": null,
            "top": null,
            "visibility": null,
            "width": "20px"
          }
        },
        "26f56b4ecaa04b4f869afa924f0eadf3": {
          "model_module": "@jupyter-widgets/controls",
          "model_name": "ProgressStyleModel",
          "model_module_version": "1.5.0",
          "state": {
            "_model_module": "@jupyter-widgets/controls",
            "_model_module_version": "1.5.0",
            "_model_name": "ProgressStyleModel",
            "_view_count": null,
            "_view_module": "@jupyter-widgets/base",
            "_view_module_version": "1.2.0",
            "_view_name": "StyleView",
            "bar_color": null,
            "description_width": ""
          }
        },
        "9a4cc8799223455ebb7521ad5543b041": {
          "model_module": "@jupyter-widgets/base",
          "model_name": "LayoutModel",
          "model_module_version": "1.2.0",
          "state": {
            "_model_module": "@jupyter-widgets/base",
            "_model_module_version": "1.2.0",
            "_model_name": "LayoutModel",
            "_view_count": null,
            "_view_module": "@jupyter-widgets/base",
            "_view_module_version": "1.2.0",
            "_view_name": "LayoutView",
            "align_content": null,
            "align_items": null,
            "align_self": null,
            "border": null,
            "bottom": null,
            "display": null,
            "flex": null,
            "flex_flow": null,
            "grid_area": null,
            "grid_auto_columns": null,
            "grid_auto_flow": null,
            "grid_auto_rows": null,
            "grid_column": null,
            "grid_gap": null,
            "grid_row": null,
            "grid_template_areas": null,
            "grid_template_columns": null,
            "grid_template_rows": null,
            "height": null,
            "justify_content": null,
            "justify_items": null,
            "left": null,
            "margin": null,
            "max_height": null,
            "max_width": null,
            "min_height": null,
            "min_width": null,
            "object_fit": null,
            "object_position": null,
            "order": null,
            "overflow": null,
            "overflow_x": null,
            "overflow_y": null,
            "padding": null,
            "right": null,
            "top": null,
            "visibility": null,
            "width": null
          }
        },
        "40509419f7eb49c1bc130d5d6c525864": {
          "model_module": "@jupyter-widgets/controls",
          "model_name": "DescriptionStyleModel",
          "model_module_version": "1.5.0",
          "state": {
            "_model_module": "@jupyter-widgets/controls",
            "_model_module_version": "1.5.0",
            "_model_name": "DescriptionStyleModel",
            "_view_count": null,
            "_view_module": "@jupyter-widgets/base",
            "_view_module_version": "1.2.0",
            "_view_name": "StyleView",
            "description_width": ""
          }
        },
        "86ff5f70f324406e9d59c31843969eb8": {
          "model_module": "@jupyter-widgets/controls",
          "model_name": "HBoxModel",
          "model_module_version": "1.5.0",
          "state": {
            "_dom_classes": [],
            "_model_module": "@jupyter-widgets/controls",
            "_model_module_version": "1.5.0",
            "_model_name": "HBoxModel",
            "_view_count": null,
            "_view_module": "@jupyter-widgets/controls",
            "_view_module_version": "1.5.0",
            "_view_name": "HBoxView",
            "box_style": "",
            "children": [
              "IPY_MODEL_22aa4afcb6e346d8bf12190de2069742",
              "IPY_MODEL_e5063b0ae4e444aa81ecc5b4fed7a77b",
              "IPY_MODEL_45a356a1a84c45efb0f148ade11cdab6"
            ],
            "layout": "IPY_MODEL_6dd930ac7bbf4fcab024cba46b17eb8a"
          }
        },
        "22aa4afcb6e346d8bf12190de2069742": {
          "model_module": "@jupyter-widgets/controls",
          "model_name": "HTMLModel",
          "model_module_version": "1.5.0",
          "state": {
            "_dom_classes": [],
            "_model_module": "@jupyter-widgets/controls",
            "_model_module_version": "1.5.0",
            "_model_name": "HTMLModel",
            "_view_count": null,
            "_view_module": "@jupyter-widgets/controls",
            "_view_module_version": "1.5.0",
            "_view_name": "HTMLView",
            "description": "",
            "description_tooltip": null,
            "layout": "IPY_MODEL_eee28840bdd34dd0901f1e283f68325a",
            "placeholder": "​",
            "style": "IPY_MODEL_6f95d1b5e80246be87e552071f758b0d",
            "value": "Shuffling /root/tensorflow_datasets/imdb_reviews/plain_text/1.0.0.incompleteBCTX1H/imdb_reviews-train.tfrecord*...:  97%"
          }
        },
        "e5063b0ae4e444aa81ecc5b4fed7a77b": {
          "model_module": "@jupyter-widgets/controls",
          "model_name": "FloatProgressModel",
          "model_module_version": "1.5.0",
          "state": {
            "_dom_classes": [],
            "_model_module": "@jupyter-widgets/controls",
            "_model_module_version": "1.5.0",
            "_model_name": "FloatProgressModel",
            "_view_count": null,
            "_view_module": "@jupyter-widgets/controls",
            "_view_module_version": "1.5.0",
            "_view_name": "ProgressView",
            "bar_style": "",
            "description": "",
            "description_tooltip": null,
            "layout": "IPY_MODEL_b1115f7dd2f642f297593a629792a9a6",
            "max": 25000,
            "min": 0,
            "orientation": "horizontal",
            "style": "IPY_MODEL_552c563643454af494d00642648889a1",
            "value": 25000
          }
        },
        "45a356a1a84c45efb0f148ade11cdab6": {
          "model_module": "@jupyter-widgets/controls",
          "model_name": "HTMLModel",
          "model_module_version": "1.5.0",
          "state": {
            "_dom_classes": [],
            "_model_module": "@jupyter-widgets/controls",
            "_model_module_version": "1.5.0",
            "_model_name": "HTMLModel",
            "_view_count": null,
            "_view_module": "@jupyter-widgets/controls",
            "_view_module_version": "1.5.0",
            "_view_name": "HTMLView",
            "description": "",
            "description_tooltip": null,
            "layout": "IPY_MODEL_d392df67254d44fa8d8dcfa7f85026e5",
            "placeholder": "​",
            "style": "IPY_MODEL_a7c7a1c12e2749eb801cc2724f499f5c",
            "value": " 24248/25000 [00:00&lt;00:00, 74515.71 examples/s]"
          }
        },
        "6dd930ac7bbf4fcab024cba46b17eb8a": {
          "model_module": "@jupyter-widgets/base",
          "model_name": "LayoutModel",
          "model_module_version": "1.2.0",
          "state": {
            "_model_module": "@jupyter-widgets/base",
            "_model_module_version": "1.2.0",
            "_model_name": "LayoutModel",
            "_view_count": null,
            "_view_module": "@jupyter-widgets/base",
            "_view_module_version": "1.2.0",
            "_view_name": "LayoutView",
            "align_content": null,
            "align_items": null,
            "align_self": null,
            "border": null,
            "bottom": null,
            "display": null,
            "flex": null,
            "flex_flow": null,
            "grid_area": null,
            "grid_auto_columns": null,
            "grid_auto_flow": null,
            "grid_auto_rows": null,
            "grid_column": null,
            "grid_gap": null,
            "grid_row": null,
            "grid_template_areas": null,
            "grid_template_columns": null,
            "grid_template_rows": null,
            "height": null,
            "justify_content": null,
            "justify_items": null,
            "left": null,
            "margin": null,
            "max_height": null,
            "max_width": null,
            "min_height": null,
            "min_width": null,
            "object_fit": null,
            "object_position": null,
            "order": null,
            "overflow": null,
            "overflow_x": null,
            "overflow_y": null,
            "padding": null,
            "right": null,
            "top": null,
            "visibility": "hidden",
            "width": null
          }
        },
        "eee28840bdd34dd0901f1e283f68325a": {
          "model_module": "@jupyter-widgets/base",
          "model_name": "LayoutModel",
          "model_module_version": "1.2.0",
          "state": {
            "_model_module": "@jupyter-widgets/base",
            "_model_module_version": "1.2.0",
            "_model_name": "LayoutModel",
            "_view_count": null,
            "_view_module": "@jupyter-widgets/base",
            "_view_module_version": "1.2.0",
            "_view_name": "LayoutView",
            "align_content": null,
            "align_items": null,
            "align_self": null,
            "border": null,
            "bottom": null,
            "display": null,
            "flex": null,
            "flex_flow": null,
            "grid_area": null,
            "grid_auto_columns": null,
            "grid_auto_flow": null,
            "grid_auto_rows": null,
            "grid_column": null,
            "grid_gap": null,
            "grid_row": null,
            "grid_template_areas": null,
            "grid_template_columns": null,
            "grid_template_rows": null,
            "height": null,
            "justify_content": null,
            "justify_items": null,
            "left": null,
            "margin": null,
            "max_height": null,
            "max_width": null,
            "min_height": null,
            "min_width": null,
            "object_fit": null,
            "object_position": null,
            "order": null,
            "overflow": null,
            "overflow_x": null,
            "overflow_y": null,
            "padding": null,
            "right": null,
            "top": null,
            "visibility": null,
            "width": null
          }
        },
        "6f95d1b5e80246be87e552071f758b0d": {
          "model_module": "@jupyter-widgets/controls",
          "model_name": "DescriptionStyleModel",
          "model_module_version": "1.5.0",
          "state": {
            "_model_module": "@jupyter-widgets/controls",
            "_model_module_version": "1.5.0",
            "_model_name": "DescriptionStyleModel",
            "_view_count": null,
            "_view_module": "@jupyter-widgets/base",
            "_view_module_version": "1.2.0",
            "_view_name": "StyleView",
            "description_width": ""
          }
        },
        "b1115f7dd2f642f297593a629792a9a6": {
          "model_module": "@jupyter-widgets/base",
          "model_name": "LayoutModel",
          "model_module_version": "1.2.0",
          "state": {
            "_model_module": "@jupyter-widgets/base",
            "_model_module_version": "1.2.0",
            "_model_name": "LayoutModel",
            "_view_count": null,
            "_view_module": "@jupyter-widgets/base",
            "_view_module_version": "1.2.0",
            "_view_name": "LayoutView",
            "align_content": null,
            "align_items": null,
            "align_self": null,
            "border": null,
            "bottom": null,
            "display": null,
            "flex": null,
            "flex_flow": null,
            "grid_area": null,
            "grid_auto_columns": null,
            "grid_auto_flow": null,
            "grid_auto_rows": null,
            "grid_column": null,
            "grid_gap": null,
            "grid_row": null,
            "grid_template_areas": null,
            "grid_template_columns": null,
            "grid_template_rows": null,
            "height": null,
            "justify_content": null,
            "justify_items": null,
            "left": null,
            "margin": null,
            "max_height": null,
            "max_width": null,
            "min_height": null,
            "min_width": null,
            "object_fit": null,
            "object_position": null,
            "order": null,
            "overflow": null,
            "overflow_x": null,
            "overflow_y": null,
            "padding": null,
            "right": null,
            "top": null,
            "visibility": null,
            "width": null
          }
        },
        "552c563643454af494d00642648889a1": {
          "model_module": "@jupyter-widgets/controls",
          "model_name": "ProgressStyleModel",
          "model_module_version": "1.5.0",
          "state": {
            "_model_module": "@jupyter-widgets/controls",
            "_model_module_version": "1.5.0",
            "_model_name": "ProgressStyleModel",
            "_view_count": null,
            "_view_module": "@jupyter-widgets/base",
            "_view_module_version": "1.2.0",
            "_view_name": "StyleView",
            "bar_color": null,
            "description_width": ""
          }
        },
        "d392df67254d44fa8d8dcfa7f85026e5": {
          "model_module": "@jupyter-widgets/base",
          "model_name": "LayoutModel",
          "model_module_version": "1.2.0",
          "state": {
            "_model_module": "@jupyter-widgets/base",
            "_model_module_version": "1.2.0",
            "_model_name": "LayoutModel",
            "_view_count": null,
            "_view_module": "@jupyter-widgets/base",
            "_view_module_version": "1.2.0",
            "_view_name": "LayoutView",
            "align_content": null,
            "align_items": null,
            "align_self": null,
            "border": null,
            "bottom": null,
            "display": null,
            "flex": null,
            "flex_flow": null,
            "grid_area": null,
            "grid_auto_columns": null,
            "grid_auto_flow": null,
            "grid_auto_rows": null,
            "grid_column": null,
            "grid_gap": null,
            "grid_row": null,
            "grid_template_areas": null,
            "grid_template_columns": null,
            "grid_template_rows": null,
            "height": null,
            "justify_content": null,
            "justify_items": null,
            "left": null,
            "margin": null,
            "max_height": null,
            "max_width": null,
            "min_height": null,
            "min_width": null,
            "object_fit": null,
            "object_position": null,
            "order": null,
            "overflow": null,
            "overflow_x": null,
            "overflow_y": null,
            "padding": null,
            "right": null,
            "top": null,
            "visibility": null,
            "width": null
          }
        },
        "a7c7a1c12e2749eb801cc2724f499f5c": {
          "model_module": "@jupyter-widgets/controls",
          "model_name": "DescriptionStyleModel",
          "model_module_version": "1.5.0",
          "state": {
            "_model_module": "@jupyter-widgets/controls",
            "_model_module_version": "1.5.0",
            "_model_name": "DescriptionStyleModel",
            "_view_count": null,
            "_view_module": "@jupyter-widgets/base",
            "_view_module_version": "1.2.0",
            "_view_name": "StyleView",
            "description_width": ""
          }
        },
        "9c9beda523a24872935aaf388bd9bf6c": {
          "model_module": "@jupyter-widgets/controls",
          "model_name": "HBoxModel",
          "model_module_version": "1.5.0",
          "state": {
            "_dom_classes": [],
            "_model_module": "@jupyter-widgets/controls",
            "_model_module_version": "1.5.0",
            "_model_name": "HBoxModel",
            "_view_count": null,
            "_view_module": "@jupyter-widgets/controls",
            "_view_module_version": "1.5.0",
            "_view_name": "HBoxView",
            "box_style": "",
            "children": [
              "IPY_MODEL_3e2ab6bf907a4878a6e733fd508c21c8",
              "IPY_MODEL_a19a7070e900460185ba633065d636f2",
              "IPY_MODEL_8f32e9d02f014c1e804f04e460073601"
            ],
            "layout": "IPY_MODEL_3368ea1a535d4cbca06afceb464aa5cf"
          }
        },
        "3e2ab6bf907a4878a6e733fd508c21c8": {
          "model_module": "@jupyter-widgets/controls",
          "model_name": "HTMLModel",
          "model_module_version": "1.5.0",
          "state": {
            "_dom_classes": [],
            "_model_module": "@jupyter-widgets/controls",
            "_model_module_version": "1.5.0",
            "_model_name": "HTMLModel",
            "_view_count": null,
            "_view_module": "@jupyter-widgets/controls",
            "_view_module_version": "1.5.0",
            "_view_name": "HTMLView",
            "description": "",
            "description_tooltip": null,
            "layout": "IPY_MODEL_043c5b6a93764d2481a79b9ef06fa2dc",
            "placeholder": "​",
            "style": "IPY_MODEL_0f05ba94fe094ac5b112764b0d17984c",
            "value": "Generating test examples...: "
          }
        },
        "a19a7070e900460185ba633065d636f2": {
          "model_module": "@jupyter-widgets/controls",
          "model_name": "FloatProgressModel",
          "model_module_version": "1.5.0",
          "state": {
            "_dom_classes": [],
            "_model_module": "@jupyter-widgets/controls",
            "_model_module_version": "1.5.0",
            "_model_name": "FloatProgressModel",
            "_view_count": null,
            "_view_module": "@jupyter-widgets/controls",
            "_view_module_version": "1.5.0",
            "_view_name": "ProgressView",
            "bar_style": "info",
            "description": "",
            "description_tooltip": null,
            "layout": "IPY_MODEL_3d108e8e50d6482580d7821f838852ea",
            "max": 1,
            "min": 0,
            "orientation": "horizontal",
            "style": "IPY_MODEL_f500707ee3e94164b4ef86f366358fe4",
            "value": 1
          }
        },
        "8f32e9d02f014c1e804f04e460073601": {
          "model_module": "@jupyter-widgets/controls",
          "model_name": "HTMLModel",
          "model_module_version": "1.5.0",
          "state": {
            "_dom_classes": [],
            "_model_module": "@jupyter-widgets/controls",
            "_model_module_version": "1.5.0",
            "_model_name": "HTMLModel",
            "_view_count": null,
            "_view_module": "@jupyter-widgets/controls",
            "_view_module_version": "1.5.0",
            "_view_name": "HTMLView",
            "description": "",
            "description_tooltip": null,
            "layout": "IPY_MODEL_00ef868ef59540d9a37fe4a7a33d90e7",
            "placeholder": "​",
            "style": "IPY_MODEL_ec5f6056aa1549fbb0b274b5ac629662",
            "value": " 24760/? [00:12&lt;00:00, 5920.93 examples/s]"
          }
        },
        "3368ea1a535d4cbca06afceb464aa5cf": {
          "model_module": "@jupyter-widgets/base",
          "model_name": "LayoutModel",
          "model_module_version": "1.2.0",
          "state": {
            "_model_module": "@jupyter-widgets/base",
            "_model_module_version": "1.2.0",
            "_model_name": "LayoutModel",
            "_view_count": null,
            "_view_module": "@jupyter-widgets/base",
            "_view_module_version": "1.2.0",
            "_view_name": "LayoutView",
            "align_content": null,
            "align_items": null,
            "align_self": null,
            "border": null,
            "bottom": null,
            "display": null,
            "flex": null,
            "flex_flow": null,
            "grid_area": null,
            "grid_auto_columns": null,
            "grid_auto_flow": null,
            "grid_auto_rows": null,
            "grid_column": null,
            "grid_gap": null,
            "grid_row": null,
            "grid_template_areas": null,
            "grid_template_columns": null,
            "grid_template_rows": null,
            "height": null,
            "justify_content": null,
            "justify_items": null,
            "left": null,
            "margin": null,
            "max_height": null,
            "max_width": null,
            "min_height": null,
            "min_width": null,
            "object_fit": null,
            "object_position": null,
            "order": null,
            "overflow": null,
            "overflow_x": null,
            "overflow_y": null,
            "padding": null,
            "right": null,
            "top": null,
            "visibility": "hidden",
            "width": null
          }
        },
        "043c5b6a93764d2481a79b9ef06fa2dc": {
          "model_module": "@jupyter-widgets/base",
          "model_name": "LayoutModel",
          "model_module_version": "1.2.0",
          "state": {
            "_model_module": "@jupyter-widgets/base",
            "_model_module_version": "1.2.0",
            "_model_name": "LayoutModel",
            "_view_count": null,
            "_view_module": "@jupyter-widgets/base",
            "_view_module_version": "1.2.0",
            "_view_name": "LayoutView",
            "align_content": null,
            "align_items": null,
            "align_self": null,
            "border": null,
            "bottom": null,
            "display": null,
            "flex": null,
            "flex_flow": null,
            "grid_area": null,
            "grid_auto_columns": null,
            "grid_auto_flow": null,
            "grid_auto_rows": null,
            "grid_column": null,
            "grid_gap": null,
            "grid_row": null,
            "grid_template_areas": null,
            "grid_template_columns": null,
            "grid_template_rows": null,
            "height": null,
            "justify_content": null,
            "justify_items": null,
            "left": null,
            "margin": null,
            "max_height": null,
            "max_width": null,
            "min_height": null,
            "min_width": null,
            "object_fit": null,
            "object_position": null,
            "order": null,
            "overflow": null,
            "overflow_x": null,
            "overflow_y": null,
            "padding": null,
            "right": null,
            "top": null,
            "visibility": null,
            "width": null
          }
        },
        "0f05ba94fe094ac5b112764b0d17984c": {
          "model_module": "@jupyter-widgets/controls",
          "model_name": "DescriptionStyleModel",
          "model_module_version": "1.5.0",
          "state": {
            "_model_module": "@jupyter-widgets/controls",
            "_model_module_version": "1.5.0",
            "_model_name": "DescriptionStyleModel",
            "_view_count": null,
            "_view_module": "@jupyter-widgets/base",
            "_view_module_version": "1.2.0",
            "_view_name": "StyleView",
            "description_width": ""
          }
        },
        "3d108e8e50d6482580d7821f838852ea": {
          "model_module": "@jupyter-widgets/base",
          "model_name": "LayoutModel",
          "model_module_version": "1.2.0",
          "state": {
            "_model_module": "@jupyter-widgets/base",
            "_model_module_version": "1.2.0",
            "_model_name": "LayoutModel",
            "_view_count": null,
            "_view_module": "@jupyter-widgets/base",
            "_view_module_version": "1.2.0",
            "_view_name": "LayoutView",
            "align_content": null,
            "align_items": null,
            "align_self": null,
            "border": null,
            "bottom": null,
            "display": null,
            "flex": null,
            "flex_flow": null,
            "grid_area": null,
            "grid_auto_columns": null,
            "grid_auto_flow": null,
            "grid_auto_rows": null,
            "grid_column": null,
            "grid_gap": null,
            "grid_row": null,
            "grid_template_areas": null,
            "grid_template_columns": null,
            "grid_template_rows": null,
            "height": null,
            "justify_content": null,
            "justify_items": null,
            "left": null,
            "margin": null,
            "max_height": null,
            "max_width": null,
            "min_height": null,
            "min_width": null,
            "object_fit": null,
            "object_position": null,
            "order": null,
            "overflow": null,
            "overflow_x": null,
            "overflow_y": null,
            "padding": null,
            "right": null,
            "top": null,
            "visibility": null,
            "width": "20px"
          }
        },
        "f500707ee3e94164b4ef86f366358fe4": {
          "model_module": "@jupyter-widgets/controls",
          "model_name": "ProgressStyleModel",
          "model_module_version": "1.5.0",
          "state": {
            "_model_module": "@jupyter-widgets/controls",
            "_model_module_version": "1.5.0",
            "_model_name": "ProgressStyleModel",
            "_view_count": null,
            "_view_module": "@jupyter-widgets/base",
            "_view_module_version": "1.2.0",
            "_view_name": "StyleView",
            "bar_color": null,
            "description_width": ""
          }
        },
        "00ef868ef59540d9a37fe4a7a33d90e7": {
          "model_module": "@jupyter-widgets/base",
          "model_name": "LayoutModel",
          "model_module_version": "1.2.0",
          "state": {
            "_model_module": "@jupyter-widgets/base",
            "_model_module_version": "1.2.0",
            "_model_name": "LayoutModel",
            "_view_count": null,
            "_view_module": "@jupyter-widgets/base",
            "_view_module_version": "1.2.0",
            "_view_name": "LayoutView",
            "align_content": null,
            "align_items": null,
            "align_self": null,
            "border": null,
            "bottom": null,
            "display": null,
            "flex": null,
            "flex_flow": null,
            "grid_area": null,
            "grid_auto_columns": null,
            "grid_auto_flow": null,
            "grid_auto_rows": null,
            "grid_column": null,
            "grid_gap": null,
            "grid_row": null,
            "grid_template_areas": null,
            "grid_template_columns": null,
            "grid_template_rows": null,
            "height": null,
            "justify_content": null,
            "justify_items": null,
            "left": null,
            "margin": null,
            "max_height": null,
            "max_width": null,
            "min_height": null,
            "min_width": null,
            "object_fit": null,
            "object_position": null,
            "order": null,
            "overflow": null,
            "overflow_x": null,
            "overflow_y": null,
            "padding": null,
            "right": null,
            "top": null,
            "visibility": null,
            "width": null
          }
        },
        "ec5f6056aa1549fbb0b274b5ac629662": {
          "model_module": "@jupyter-widgets/controls",
          "model_name": "DescriptionStyleModel",
          "model_module_version": "1.5.0",
          "state": {
            "_model_module": "@jupyter-widgets/controls",
            "_model_module_version": "1.5.0",
            "_model_name": "DescriptionStyleModel",
            "_view_count": null,
            "_view_module": "@jupyter-widgets/base",
            "_view_module_version": "1.2.0",
            "_view_name": "StyleView",
            "description_width": ""
          }
        },
        "04be1accc0054c2cb3313c3c8edd6a10": {
          "model_module": "@jupyter-widgets/controls",
          "model_name": "HBoxModel",
          "model_module_version": "1.5.0",
          "state": {
            "_dom_classes": [],
            "_model_module": "@jupyter-widgets/controls",
            "_model_module_version": "1.5.0",
            "_model_name": "HBoxModel",
            "_view_count": null,
            "_view_module": "@jupyter-widgets/controls",
            "_view_module_version": "1.5.0",
            "_view_name": "HBoxView",
            "box_style": "",
            "children": [
              "IPY_MODEL_548c85d30a334dfab50b1883f7831bb3",
              "IPY_MODEL_2e1b9e94674240a19a886c5b58f2efc5",
              "IPY_MODEL_2808387c48da42cf82209210e00eb381"
            ],
            "layout": "IPY_MODEL_a1177c54ab074dd087c3546f91df9205"
          }
        },
        "548c85d30a334dfab50b1883f7831bb3": {
          "model_module": "@jupyter-widgets/controls",
          "model_name": "HTMLModel",
          "model_module_version": "1.5.0",
          "state": {
            "_dom_classes": [],
            "_model_module": "@jupyter-widgets/controls",
            "_model_module_version": "1.5.0",
            "_model_name": "HTMLModel",
            "_view_count": null,
            "_view_module": "@jupyter-widgets/controls",
            "_view_module_version": "1.5.0",
            "_view_name": "HTMLView",
            "description": "",
            "description_tooltip": null,
            "layout": "IPY_MODEL_13bd6bc4d5a64b50aa22d127a0f736f3",
            "placeholder": "​",
            "style": "IPY_MODEL_a9a9610b736c46da8aacef46d4638dee",
            "value": "Shuffling /root/tensorflow_datasets/imdb_reviews/plain_text/1.0.0.incompleteBCTX1H/imdb_reviews-test.tfrecord*...:  68%"
          }
        },
        "2e1b9e94674240a19a886c5b58f2efc5": {
          "model_module": "@jupyter-widgets/controls",
          "model_name": "FloatProgressModel",
          "model_module_version": "1.5.0",
          "state": {
            "_dom_classes": [],
            "_model_module": "@jupyter-widgets/controls",
            "_model_module_version": "1.5.0",
            "_model_name": "FloatProgressModel",
            "_view_count": null,
            "_view_module": "@jupyter-widgets/controls",
            "_view_module_version": "1.5.0",
            "_view_name": "ProgressView",
            "bar_style": "",
            "description": "",
            "description_tooltip": null,
            "layout": "IPY_MODEL_7cdd43c5ced04766a509d2d1263dada7",
            "max": 25000,
            "min": 0,
            "orientation": "horizontal",
            "style": "IPY_MODEL_69ec3ae9c1d74268965f24ab37768b80",
            "value": 25000
          }
        },
        "2808387c48da42cf82209210e00eb381": {
          "model_module": "@jupyter-widgets/controls",
          "model_name": "HTMLModel",
          "model_module_version": "1.5.0",
          "state": {
            "_dom_classes": [],
            "_model_module": "@jupyter-widgets/controls",
            "_model_module_version": "1.5.0",
            "_model_name": "HTMLModel",
            "_view_count": null,
            "_view_module": "@jupyter-widgets/controls",
            "_view_module_version": "1.5.0",
            "_view_name": "HTMLView",
            "description": "",
            "description_tooltip": null,
            "layout": "IPY_MODEL_5bc3072af01f480a8d53246e8fb5b8a1",
            "placeholder": "​",
            "style": "IPY_MODEL_4e330ad4b5b44bb8a6100ce04b2d76ce",
            "value": " 16937/25000 [00:00&lt;00:00, 169349.97 examples/s]"
          }
        },
        "a1177c54ab074dd087c3546f91df9205": {
          "model_module": "@jupyter-widgets/base",
          "model_name": "LayoutModel",
          "model_module_version": "1.2.0",
          "state": {
            "_model_module": "@jupyter-widgets/base",
            "_model_module_version": "1.2.0",
            "_model_name": "LayoutModel",
            "_view_count": null,
            "_view_module": "@jupyter-widgets/base",
            "_view_module_version": "1.2.0",
            "_view_name": "LayoutView",
            "align_content": null,
            "align_items": null,
            "align_self": null,
            "border": null,
            "bottom": null,
            "display": null,
            "flex": null,
            "flex_flow": null,
            "grid_area": null,
            "grid_auto_columns": null,
            "grid_auto_flow": null,
            "grid_auto_rows": null,
            "grid_column": null,
            "grid_gap": null,
            "grid_row": null,
            "grid_template_areas": null,
            "grid_template_columns": null,
            "grid_template_rows": null,
            "height": null,
            "justify_content": null,
            "justify_items": null,
            "left": null,
            "margin": null,
            "max_height": null,
            "max_width": null,
            "min_height": null,
            "min_width": null,
            "object_fit": null,
            "object_position": null,
            "order": null,
            "overflow": null,
            "overflow_x": null,
            "overflow_y": null,
            "padding": null,
            "right": null,
            "top": null,
            "visibility": "hidden",
            "width": null
          }
        },
        "13bd6bc4d5a64b50aa22d127a0f736f3": {
          "model_module": "@jupyter-widgets/base",
          "model_name": "LayoutModel",
          "model_module_version": "1.2.0",
          "state": {
            "_model_module": "@jupyter-widgets/base",
            "_model_module_version": "1.2.0",
            "_model_name": "LayoutModel",
            "_view_count": null,
            "_view_module": "@jupyter-widgets/base",
            "_view_module_version": "1.2.0",
            "_view_name": "LayoutView",
            "align_content": null,
            "align_items": null,
            "align_self": null,
            "border": null,
            "bottom": null,
            "display": null,
            "flex": null,
            "flex_flow": null,
            "grid_area": null,
            "grid_auto_columns": null,
            "grid_auto_flow": null,
            "grid_auto_rows": null,
            "grid_column": null,
            "grid_gap": null,
            "grid_row": null,
            "grid_template_areas": null,
            "grid_template_columns": null,
            "grid_template_rows": null,
            "height": null,
            "justify_content": null,
            "justify_items": null,
            "left": null,
            "margin": null,
            "max_height": null,
            "max_width": null,
            "min_height": null,
            "min_width": null,
            "object_fit": null,
            "object_position": null,
            "order": null,
            "overflow": null,
            "overflow_x": null,
            "overflow_y": null,
            "padding": null,
            "right": null,
            "top": null,
            "visibility": null,
            "width": null
          }
        },
        "a9a9610b736c46da8aacef46d4638dee": {
          "model_module": "@jupyter-widgets/controls",
          "model_name": "DescriptionStyleModel",
          "model_module_version": "1.5.0",
          "state": {
            "_model_module": "@jupyter-widgets/controls",
            "_model_module_version": "1.5.0",
            "_model_name": "DescriptionStyleModel",
            "_view_count": null,
            "_view_module": "@jupyter-widgets/base",
            "_view_module_version": "1.2.0",
            "_view_name": "StyleView",
            "description_width": ""
          }
        },
        "7cdd43c5ced04766a509d2d1263dada7": {
          "model_module": "@jupyter-widgets/base",
          "model_name": "LayoutModel",
          "model_module_version": "1.2.0",
          "state": {
            "_model_module": "@jupyter-widgets/base",
            "_model_module_version": "1.2.0",
            "_model_name": "LayoutModel",
            "_view_count": null,
            "_view_module": "@jupyter-widgets/base",
            "_view_module_version": "1.2.0",
            "_view_name": "LayoutView",
            "align_content": null,
            "align_items": null,
            "align_self": null,
            "border": null,
            "bottom": null,
            "display": null,
            "flex": null,
            "flex_flow": null,
            "grid_area": null,
            "grid_auto_columns": null,
            "grid_auto_flow": null,
            "grid_auto_rows": null,
            "grid_column": null,
            "grid_gap": null,
            "grid_row": null,
            "grid_template_areas": null,
            "grid_template_columns": null,
            "grid_template_rows": null,
            "height": null,
            "justify_content": null,
            "justify_items": null,
            "left": null,
            "margin": null,
            "max_height": null,
            "max_width": null,
            "min_height": null,
            "min_width": null,
            "object_fit": null,
            "object_position": null,
            "order": null,
            "overflow": null,
            "overflow_x": null,
            "overflow_y": null,
            "padding": null,
            "right": null,
            "top": null,
            "visibility": null,
            "width": null
          }
        },
        "69ec3ae9c1d74268965f24ab37768b80": {
          "model_module": "@jupyter-widgets/controls",
          "model_name": "ProgressStyleModel",
          "model_module_version": "1.5.0",
          "state": {
            "_model_module": "@jupyter-widgets/controls",
            "_model_module_version": "1.5.0",
            "_model_name": "ProgressStyleModel",
            "_view_count": null,
            "_view_module": "@jupyter-widgets/base",
            "_view_module_version": "1.2.0",
            "_view_name": "StyleView",
            "bar_color": null,
            "description_width": ""
          }
        },
        "5bc3072af01f480a8d53246e8fb5b8a1": {
          "model_module": "@jupyter-widgets/base",
          "model_name": "LayoutModel",
          "model_module_version": "1.2.0",
          "state": {
            "_model_module": "@jupyter-widgets/base",
            "_model_module_version": "1.2.0",
            "_model_name": "LayoutModel",
            "_view_count": null,
            "_view_module": "@jupyter-widgets/base",
            "_view_module_version": "1.2.0",
            "_view_name": "LayoutView",
            "align_content": null,
            "align_items": null,
            "align_self": null,
            "border": null,
            "bottom": null,
            "display": null,
            "flex": null,
            "flex_flow": null,
            "grid_area": null,
            "grid_auto_columns": null,
            "grid_auto_flow": null,
            "grid_auto_rows": null,
            "grid_column": null,
            "grid_gap": null,
            "grid_row": null,
            "grid_template_areas": null,
            "grid_template_columns": null,
            "grid_template_rows": null,
            "height": null,
            "justify_content": null,
            "justify_items": null,
            "left": null,
            "margin": null,
            "max_height": null,
            "max_width": null,
            "min_height": null,
            "min_width": null,
            "object_fit": null,
            "object_position": null,
            "order": null,
            "overflow": null,
            "overflow_x": null,
            "overflow_y": null,
            "padding": null,
            "right": null,
            "top": null,
            "visibility": null,
            "width": null
          }
        },
        "4e330ad4b5b44bb8a6100ce04b2d76ce": {
          "model_module": "@jupyter-widgets/controls",
          "model_name": "DescriptionStyleModel",
          "model_module_version": "1.5.0",
          "state": {
            "_model_module": "@jupyter-widgets/controls",
            "_model_module_version": "1.5.0",
            "_model_name": "DescriptionStyleModel",
            "_view_count": null,
            "_view_module": "@jupyter-widgets/base",
            "_view_module_version": "1.2.0",
            "_view_name": "StyleView",
            "description_width": ""
          }
        },
        "52bab9e73cc3457f843272891fe16c48": {
          "model_module": "@jupyter-widgets/controls",
          "model_name": "HBoxModel",
          "model_module_version": "1.5.0",
          "state": {
            "_dom_classes": [],
            "_model_module": "@jupyter-widgets/controls",
            "_model_module_version": "1.5.0",
            "_model_name": "HBoxModel",
            "_view_count": null,
            "_view_module": "@jupyter-widgets/controls",
            "_view_module_version": "1.5.0",
            "_view_name": "HBoxView",
            "box_style": "",
            "children": [
              "IPY_MODEL_951c9971fe254bf7887497c806c54208",
              "IPY_MODEL_2808ad56b248429db6068b85269ec8cf",
              "IPY_MODEL_7e298fbffd714f1bba8082651e668ba8"
            ],
            "layout": "IPY_MODEL_b6736cef636144c2bb0f7316c54538d2"
          }
        },
        "951c9971fe254bf7887497c806c54208": {
          "model_module": "@jupyter-widgets/controls",
          "model_name": "HTMLModel",
          "model_module_version": "1.5.0",
          "state": {
            "_dom_classes": [],
            "_model_module": "@jupyter-widgets/controls",
            "_model_module_version": "1.5.0",
            "_model_name": "HTMLModel",
            "_view_count": null,
            "_view_module": "@jupyter-widgets/controls",
            "_view_module_version": "1.5.0",
            "_view_name": "HTMLView",
            "description": "",
            "description_tooltip": null,
            "layout": "IPY_MODEL_5224919ca24d4c2b9a3ba06bd1cd0f3f",
            "placeholder": "​",
            "style": "IPY_MODEL_7c176ffb09874a298abe827855b28304",
            "value": "Generating unsupervised examples...: "
          }
        },
        "2808ad56b248429db6068b85269ec8cf": {
          "model_module": "@jupyter-widgets/controls",
          "model_name": "FloatProgressModel",
          "model_module_version": "1.5.0",
          "state": {
            "_dom_classes": [],
            "_model_module": "@jupyter-widgets/controls",
            "_model_module_version": "1.5.0",
            "_model_name": "FloatProgressModel",
            "_view_count": null,
            "_view_module": "@jupyter-widgets/controls",
            "_view_module_version": "1.5.0",
            "_view_name": "ProgressView",
            "bar_style": "info",
            "description": "",
            "description_tooltip": null,
            "layout": "IPY_MODEL_f594862fa68841f7b1bc0ac7e6f5acec",
            "max": 1,
            "min": 0,
            "orientation": "horizontal",
            "style": "IPY_MODEL_82b4b4409e094ba2be28aa7991cd7e6f",
            "value": 1
          }
        },
        "7e298fbffd714f1bba8082651e668ba8": {
          "model_module": "@jupyter-widgets/controls",
          "model_name": "HTMLModel",
          "model_module_version": "1.5.0",
          "state": {
            "_dom_classes": [],
            "_model_module": "@jupyter-widgets/controls",
            "_model_module_version": "1.5.0",
            "_model_name": "HTMLModel",
            "_view_count": null,
            "_view_module": "@jupyter-widgets/controls",
            "_view_module_version": "1.5.0",
            "_view_name": "HTMLView",
            "description": "",
            "description_tooltip": null,
            "layout": "IPY_MODEL_23cb2e52d553436ca8212d426ba278df",
            "placeholder": "​",
            "style": "IPY_MODEL_c786f0221bcf4bae8367a036124c2a08",
            "value": " 49591/? [00:12&lt;00:00, 5819.77 examples/s]"
          }
        },
        "b6736cef636144c2bb0f7316c54538d2": {
          "model_module": "@jupyter-widgets/base",
          "model_name": "LayoutModel",
          "model_module_version": "1.2.0",
          "state": {
            "_model_module": "@jupyter-widgets/base",
            "_model_module_version": "1.2.0",
            "_model_name": "LayoutModel",
            "_view_count": null,
            "_view_module": "@jupyter-widgets/base",
            "_view_module_version": "1.2.0",
            "_view_name": "LayoutView",
            "align_content": null,
            "align_items": null,
            "align_self": null,
            "border": null,
            "bottom": null,
            "display": null,
            "flex": null,
            "flex_flow": null,
            "grid_area": null,
            "grid_auto_columns": null,
            "grid_auto_flow": null,
            "grid_auto_rows": null,
            "grid_column": null,
            "grid_gap": null,
            "grid_row": null,
            "grid_template_areas": null,
            "grid_template_columns": null,
            "grid_template_rows": null,
            "height": null,
            "justify_content": null,
            "justify_items": null,
            "left": null,
            "margin": null,
            "max_height": null,
            "max_width": null,
            "min_height": null,
            "min_width": null,
            "object_fit": null,
            "object_position": null,
            "order": null,
            "overflow": null,
            "overflow_x": null,
            "overflow_y": null,
            "padding": null,
            "right": null,
            "top": null,
            "visibility": "hidden",
            "width": null
          }
        },
        "5224919ca24d4c2b9a3ba06bd1cd0f3f": {
          "model_module": "@jupyter-widgets/base",
          "model_name": "LayoutModel",
          "model_module_version": "1.2.0",
          "state": {
            "_model_module": "@jupyter-widgets/base",
            "_model_module_version": "1.2.0",
            "_model_name": "LayoutModel",
            "_view_count": null,
            "_view_module": "@jupyter-widgets/base",
            "_view_module_version": "1.2.0",
            "_view_name": "LayoutView",
            "align_content": null,
            "align_items": null,
            "align_self": null,
            "border": null,
            "bottom": null,
            "display": null,
            "flex": null,
            "flex_flow": null,
            "grid_area": null,
            "grid_auto_columns": null,
            "grid_auto_flow": null,
            "grid_auto_rows": null,
            "grid_column": null,
            "grid_gap": null,
            "grid_row": null,
            "grid_template_areas": null,
            "grid_template_columns": null,
            "grid_template_rows": null,
            "height": null,
            "justify_content": null,
            "justify_items": null,
            "left": null,
            "margin": null,
            "max_height": null,
            "max_width": null,
            "min_height": null,
            "min_width": null,
            "object_fit": null,
            "object_position": null,
            "order": null,
            "overflow": null,
            "overflow_x": null,
            "overflow_y": null,
            "padding": null,
            "right": null,
            "top": null,
            "visibility": null,
            "width": null
          }
        },
        "7c176ffb09874a298abe827855b28304": {
          "model_module": "@jupyter-widgets/controls",
          "model_name": "DescriptionStyleModel",
          "model_module_version": "1.5.0",
          "state": {
            "_model_module": "@jupyter-widgets/controls",
            "_model_module_version": "1.5.0",
            "_model_name": "DescriptionStyleModel",
            "_view_count": null,
            "_view_module": "@jupyter-widgets/base",
            "_view_module_version": "1.2.0",
            "_view_name": "StyleView",
            "description_width": ""
          }
        },
        "f594862fa68841f7b1bc0ac7e6f5acec": {
          "model_module": "@jupyter-widgets/base",
          "model_name": "LayoutModel",
          "model_module_version": "1.2.0",
          "state": {
            "_model_module": "@jupyter-widgets/base",
            "_model_module_version": "1.2.0",
            "_model_name": "LayoutModel",
            "_view_count": null,
            "_view_module": "@jupyter-widgets/base",
            "_view_module_version": "1.2.0",
            "_view_name": "LayoutView",
            "align_content": null,
            "align_items": null,
            "align_self": null,
            "border": null,
            "bottom": null,
            "display": null,
            "flex": null,
            "flex_flow": null,
            "grid_area": null,
            "grid_auto_columns": null,
            "grid_auto_flow": null,
            "grid_auto_rows": null,
            "grid_column": null,
            "grid_gap": null,
            "grid_row": null,
            "grid_template_areas": null,
            "grid_template_columns": null,
            "grid_template_rows": null,
            "height": null,
            "justify_content": null,
            "justify_items": null,
            "left": null,
            "margin": null,
            "max_height": null,
            "max_width": null,
            "min_height": null,
            "min_width": null,
            "object_fit": null,
            "object_position": null,
            "order": null,
            "overflow": null,
            "overflow_x": null,
            "overflow_y": null,
            "padding": null,
            "right": null,
            "top": null,
            "visibility": null,
            "width": "20px"
          }
        },
        "82b4b4409e094ba2be28aa7991cd7e6f": {
          "model_module": "@jupyter-widgets/controls",
          "model_name": "ProgressStyleModel",
          "model_module_version": "1.5.0",
          "state": {
            "_model_module": "@jupyter-widgets/controls",
            "_model_module_version": "1.5.0",
            "_model_name": "ProgressStyleModel",
            "_view_count": null,
            "_view_module": "@jupyter-widgets/base",
            "_view_module_version": "1.2.0",
            "_view_name": "StyleView",
            "bar_color": null,
            "description_width": ""
          }
        },
        "23cb2e52d553436ca8212d426ba278df": {
          "model_module": "@jupyter-widgets/base",
          "model_name": "LayoutModel",
          "model_module_version": "1.2.0",
          "state": {
            "_model_module": "@jupyter-widgets/base",
            "_model_module_version": "1.2.0",
            "_model_name": "LayoutModel",
            "_view_count": null,
            "_view_module": "@jupyter-widgets/base",
            "_view_module_version": "1.2.0",
            "_view_name": "LayoutView",
            "align_content": null,
            "align_items": null,
            "align_self": null,
            "border": null,
            "bottom": null,
            "display": null,
            "flex": null,
            "flex_flow": null,
            "grid_area": null,
            "grid_auto_columns": null,
            "grid_auto_flow": null,
            "grid_auto_rows": null,
            "grid_column": null,
            "grid_gap": null,
            "grid_row": null,
            "grid_template_areas": null,
            "grid_template_columns": null,
            "grid_template_rows": null,
            "height": null,
            "justify_content": null,
            "justify_items": null,
            "left": null,
            "margin": null,
            "max_height": null,
            "max_width": null,
            "min_height": null,
            "min_width": null,
            "object_fit": null,
            "object_position": null,
            "order": null,
            "overflow": null,
            "overflow_x": null,
            "overflow_y": null,
            "padding": null,
            "right": null,
            "top": null,
            "visibility": null,
            "width": null
          }
        },
        "c786f0221bcf4bae8367a036124c2a08": {
          "model_module": "@jupyter-widgets/controls",
          "model_name": "DescriptionStyleModel",
          "model_module_version": "1.5.0",
          "state": {
            "_model_module": "@jupyter-widgets/controls",
            "_model_module_version": "1.5.0",
            "_model_name": "DescriptionStyleModel",
            "_view_count": null,
            "_view_module": "@jupyter-widgets/base",
            "_view_module_version": "1.2.0",
            "_view_name": "StyleView",
            "description_width": ""
          }
        },
        "560d164de29a44a18c0991327f90c833": {
          "model_module": "@jupyter-widgets/controls",
          "model_name": "HBoxModel",
          "model_module_version": "1.5.0",
          "state": {
            "_dom_classes": [],
            "_model_module": "@jupyter-widgets/controls",
            "_model_module_version": "1.5.0",
            "_model_name": "HBoxModel",
            "_view_count": null,
            "_view_module": "@jupyter-widgets/controls",
            "_view_module_version": "1.5.0",
            "_view_name": "HBoxView",
            "box_style": "",
            "children": [
              "IPY_MODEL_721ca2426cec45e4b13ccfa2f5426689",
              "IPY_MODEL_686386db29694abba2368f5f4b6eeb85",
              "IPY_MODEL_7c1c672a2d1147d0a6745d176ee841dd"
            ],
            "layout": "IPY_MODEL_2847da52b69c4be7a673fe3bf5532265"
          }
        },
        "721ca2426cec45e4b13ccfa2f5426689": {
          "model_module": "@jupyter-widgets/controls",
          "model_name": "HTMLModel",
          "model_module_version": "1.5.0",
          "state": {
            "_dom_classes": [],
            "_model_module": "@jupyter-widgets/controls",
            "_model_module_version": "1.5.0",
            "_model_name": "HTMLModel",
            "_view_count": null,
            "_view_module": "@jupyter-widgets/controls",
            "_view_module_version": "1.5.0",
            "_view_name": "HTMLView",
            "description": "",
            "description_tooltip": null,
            "layout": "IPY_MODEL_6d25467d381e40d7a10b2a80c03679b1",
            "placeholder": "​",
            "style": "IPY_MODEL_f26ef5a3369b4084b66b6d2739ab4e2b",
            "value": "Shuffling /root/tensorflow_datasets/imdb_reviews/plain_text/1.0.0.incompleteBCTX1H/imdb_reviews-unsupervised.tfrecord*...:  76%"
          }
        },
        "686386db29694abba2368f5f4b6eeb85": {
          "model_module": "@jupyter-widgets/controls",
          "model_name": "FloatProgressModel",
          "model_module_version": "1.5.0",
          "state": {
            "_dom_classes": [],
            "_model_module": "@jupyter-widgets/controls",
            "_model_module_version": "1.5.0",
            "_model_name": "FloatProgressModel",
            "_view_count": null,
            "_view_module": "@jupyter-widgets/controls",
            "_view_module_version": "1.5.0",
            "_view_name": "ProgressView",
            "bar_style": "",
            "description": "",
            "description_tooltip": null,
            "layout": "IPY_MODEL_93c1fb19d29d4feba4c1e23d2cf4dea6",
            "max": 50000,
            "min": 0,
            "orientation": "horizontal",
            "style": "IPY_MODEL_902cbdc1626e4aa79e70d10dd9288b1a",
            "value": 50000
          }
        },
        "7c1c672a2d1147d0a6745d176ee841dd": {
          "model_module": "@jupyter-widgets/controls",
          "model_name": "HTMLModel",
          "model_module_version": "1.5.0",
          "state": {
            "_dom_classes": [],
            "_model_module": "@jupyter-widgets/controls",
            "_model_module_version": "1.5.0",
            "_model_name": "HTMLModel",
            "_view_count": null,
            "_view_module": "@jupyter-widgets/controls",
            "_view_module_version": "1.5.0",
            "_view_name": "HTMLView",
            "description": "",
            "description_tooltip": null,
            "layout": "IPY_MODEL_4aa41b75726a4947a2d74f2bca2b464e",
            "placeholder": "​",
            "style": "IPY_MODEL_01cea23540804f93805c7f1af14085dd",
            "value": " 38189/50000 [00:00&lt;00:00, 204475.02 examples/s]"
          }
        },
        "2847da52b69c4be7a673fe3bf5532265": {
          "model_module": "@jupyter-widgets/base",
          "model_name": "LayoutModel",
          "model_module_version": "1.2.0",
          "state": {
            "_model_module": "@jupyter-widgets/base",
            "_model_module_version": "1.2.0",
            "_model_name": "LayoutModel",
            "_view_count": null,
            "_view_module": "@jupyter-widgets/base",
            "_view_module_version": "1.2.0",
            "_view_name": "LayoutView",
            "align_content": null,
            "align_items": null,
            "align_self": null,
            "border": null,
            "bottom": null,
            "display": null,
            "flex": null,
            "flex_flow": null,
            "grid_area": null,
            "grid_auto_columns": null,
            "grid_auto_flow": null,
            "grid_auto_rows": null,
            "grid_column": null,
            "grid_gap": null,
            "grid_row": null,
            "grid_template_areas": null,
            "grid_template_columns": null,
            "grid_template_rows": null,
            "height": null,
            "justify_content": null,
            "justify_items": null,
            "left": null,
            "margin": null,
            "max_height": null,
            "max_width": null,
            "min_height": null,
            "min_width": null,
            "object_fit": null,
            "object_position": null,
            "order": null,
            "overflow": null,
            "overflow_x": null,
            "overflow_y": null,
            "padding": null,
            "right": null,
            "top": null,
            "visibility": "hidden",
            "width": null
          }
        },
        "6d25467d381e40d7a10b2a80c03679b1": {
          "model_module": "@jupyter-widgets/base",
          "model_name": "LayoutModel",
          "model_module_version": "1.2.0",
          "state": {
            "_model_module": "@jupyter-widgets/base",
            "_model_module_version": "1.2.0",
            "_model_name": "LayoutModel",
            "_view_count": null,
            "_view_module": "@jupyter-widgets/base",
            "_view_module_version": "1.2.0",
            "_view_name": "LayoutView",
            "align_content": null,
            "align_items": null,
            "align_self": null,
            "border": null,
            "bottom": null,
            "display": null,
            "flex": null,
            "flex_flow": null,
            "grid_area": null,
            "grid_auto_columns": null,
            "grid_auto_flow": null,
            "grid_auto_rows": null,
            "grid_column": null,
            "grid_gap": null,
            "grid_row": null,
            "grid_template_areas": null,
            "grid_template_columns": null,
            "grid_template_rows": null,
            "height": null,
            "justify_content": null,
            "justify_items": null,
            "left": null,
            "margin": null,
            "max_height": null,
            "max_width": null,
            "min_height": null,
            "min_width": null,
            "object_fit": null,
            "object_position": null,
            "order": null,
            "overflow": null,
            "overflow_x": null,
            "overflow_y": null,
            "padding": null,
            "right": null,
            "top": null,
            "visibility": null,
            "width": null
          }
        },
        "f26ef5a3369b4084b66b6d2739ab4e2b": {
          "model_module": "@jupyter-widgets/controls",
          "model_name": "DescriptionStyleModel",
          "model_module_version": "1.5.0",
          "state": {
            "_model_module": "@jupyter-widgets/controls",
            "_model_module_version": "1.5.0",
            "_model_name": "DescriptionStyleModel",
            "_view_count": null,
            "_view_module": "@jupyter-widgets/base",
            "_view_module_version": "1.2.0",
            "_view_name": "StyleView",
            "description_width": ""
          }
        },
        "93c1fb19d29d4feba4c1e23d2cf4dea6": {
          "model_module": "@jupyter-widgets/base",
          "model_name": "LayoutModel",
          "model_module_version": "1.2.0",
          "state": {
            "_model_module": "@jupyter-widgets/base",
            "_model_module_version": "1.2.0",
            "_model_name": "LayoutModel",
            "_view_count": null,
            "_view_module": "@jupyter-widgets/base",
            "_view_module_version": "1.2.0",
            "_view_name": "LayoutView",
            "align_content": null,
            "align_items": null,
            "align_self": null,
            "border": null,
            "bottom": null,
            "display": null,
            "flex": null,
            "flex_flow": null,
            "grid_area": null,
            "grid_auto_columns": null,
            "grid_auto_flow": null,
            "grid_auto_rows": null,
            "grid_column": null,
            "grid_gap": null,
            "grid_row": null,
            "grid_template_areas": null,
            "grid_template_columns": null,
            "grid_template_rows": null,
            "height": null,
            "justify_content": null,
            "justify_items": null,
            "left": null,
            "margin": null,
            "max_height": null,
            "max_width": null,
            "min_height": null,
            "min_width": null,
            "object_fit": null,
            "object_position": null,
            "order": null,
            "overflow": null,
            "overflow_x": null,
            "overflow_y": null,
            "padding": null,
            "right": null,
            "top": null,
            "visibility": null,
            "width": null
          }
        },
        "902cbdc1626e4aa79e70d10dd9288b1a": {
          "model_module": "@jupyter-widgets/controls",
          "model_name": "ProgressStyleModel",
          "model_module_version": "1.5.0",
          "state": {
            "_model_module": "@jupyter-widgets/controls",
            "_model_module_version": "1.5.0",
            "_model_name": "ProgressStyleModel",
            "_view_count": null,
            "_view_module": "@jupyter-widgets/base",
            "_view_module_version": "1.2.0",
            "_view_name": "StyleView",
            "bar_color": null,
            "description_width": ""
          }
        },
        "4aa41b75726a4947a2d74f2bca2b464e": {
          "model_module": "@jupyter-widgets/base",
          "model_name": "LayoutModel",
          "model_module_version": "1.2.0",
          "state": {
            "_model_module": "@jupyter-widgets/base",
            "_model_module_version": "1.2.0",
            "_model_name": "LayoutModel",
            "_view_count": null,
            "_view_module": "@jupyter-widgets/base",
            "_view_module_version": "1.2.0",
            "_view_name": "LayoutView",
            "align_content": null,
            "align_items": null,
            "align_self": null,
            "border": null,
            "bottom": null,
            "display": null,
            "flex": null,
            "flex_flow": null,
            "grid_area": null,
            "grid_auto_columns": null,
            "grid_auto_flow": null,
            "grid_auto_rows": null,
            "grid_column": null,
            "grid_gap": null,
            "grid_row": null,
            "grid_template_areas": null,
            "grid_template_columns": null,
            "grid_template_rows": null,
            "height": null,
            "justify_content": null,
            "justify_items": null,
            "left": null,
            "margin": null,
            "max_height": null,
            "max_width": null,
            "min_height": null,
            "min_width": null,
            "object_fit": null,
            "object_position": null,
            "order": null,
            "overflow": null,
            "overflow_x": null,
            "overflow_y": null,
            "padding": null,
            "right": null,
            "top": null,
            "visibility": null,
            "width": null
          }
        },
        "01cea23540804f93805c7f1af14085dd": {
          "model_module": "@jupyter-widgets/controls",
          "model_name": "DescriptionStyleModel",
          "model_module_version": "1.5.0",
          "state": {
            "_model_module": "@jupyter-widgets/controls",
            "_model_module_version": "1.5.0",
            "_model_name": "DescriptionStyleModel",
            "_view_count": null,
            "_view_module": "@jupyter-widgets/base",
            "_view_module_version": "1.2.0",
            "_view_name": "StyleView",
            "description_width": ""
          }
        }
      }
    }
  },
  "nbformat": 4,
  "nbformat_minor": 0
}